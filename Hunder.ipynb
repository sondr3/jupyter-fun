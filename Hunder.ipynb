{
 "cells": [
  {
   "cell_type": "code",
   "execution_count": 85,
   "outputs": [],
   "source": [
    "from geopy.geocoders import Nominatim, GoogleV3\n",
    "from geopy.extra.rate_limiter import RateLimiter\n",
    "\n",
    "import requests\n",
    "from bs4 import BeautifulSoup\n",
    "import pandas as pd\n",
    "import plotly.express as px"
   ],
   "metadata": {
    "collapsed": false,
    "pycharm": {
     "name": "#%%\n"
    }
   }
  },
  {
   "cell_type": "code",
   "execution_count": 88,
   "outputs": [],
   "source": [
    "geolocator = GoogleV3(api_key=open(\".maps-token\").read())\n",
    "geocode = RateLimiter(geolocator.geocode, min_delay_seconds=1)"
   ],
   "metadata": {
    "collapsed": false,
    "pycharm": {
     "name": "#%%\n"
    }
   }
  },
  {
   "cell_type": "code",
   "execution_count": 107,
   "outputs": [
    {
     "data": {
      "text/plain": "Point(59.9126589, 10.9215758, 0.0)"
     },
     "execution_count": 107,
     "metadata": {},
     "output_type": "execute_result"
    }
   ],
   "source": [
    "geocode(\"Bjørndalsveien 89, 1476 Rasta, Norway\").point"
   ],
   "metadata": {
    "collapsed": false,
    "pycharm": {
     "name": "#%%\n"
    }
   }
  },
  {
   "cell_type": "code",
   "execution_count": 90,
   "outputs": [],
   "source": [
    "page = requests.get(\"http://puddelklubb.no/oppdrettere/\")\n",
    "soup = BeautifulSoup(page.content, \"html.parser\")"
   ],
   "metadata": {
    "collapsed": false,
    "pycharm": {
     "name": "#%%\n"
    }
   }
  },
  {
   "cell_type": "code",
   "execution_count": 91,
   "outputs": [],
   "source": [
    "poodles: pd.DataFrame = pd.read_html(str(soup.find(\"table\")))[0]\n",
    "poodles = poodles[poodles[\"Størrelse\"].str.contains(\"stor|Stor\")]"
   ],
   "metadata": {
    "collapsed": false,
    "pycharm": {
     "name": "#%%\n"
    }
   }
  },
  {
   "cell_type": "code",
   "execution_count": 92,
   "outputs": [
    {
     "data": {
      "text/plain": "          Kennelnavn                 Størrelse                     Farge  \\\n2              Abroz                      stor                       grå   \n4            Alchemy                      stor                      hvit   \n5           Ambiance                      stor                sort, hvit   \n6             Ankaru          stor, dverg, toy                sort, brun   \n8          Ars Novas                      stor                sort, brun   \n12         Belladoux                      stor   fawn(rød, aprikos), grå   \n14        Bergtjenna          stor, dverg, toy                sort, hvit   \n16         BjørnePia                      stor          sort, brun, fawn   \n21           Casbana                      stor                sort, hvit   \n22           Catwalk                      stor                sort, hvit   \n25   Country Dreamer               stor, dverg                       grå   \n27            Dajmen                      stor                      sort   \n29          Dominart                      stor                      hvit   \n37     Frøyapuddelen                      stor                      sort   \n40        Happy Curl                      stor                      sort   \n49    Kennel Ronbalt              stor, mellom        fawn(rød, aprikos)   \n52   Kennel Vintelli                      stor  sort, fawn(rød, aprikos)   \n58         Madam Mim                      stor                 grå, hvit   \n62          Memories                      stor                      sort   \n65            Minada                      stor                      sort   \n68          Molineux              stor, mellom                sort, hvit   \n70    Mountain Blizz              stor, mellom                sort, hvit   \n73          MyCalida               stor, dverg                      sort   \n74            Mydele                      stor                      brun   \n75     New Headlines              stor, mellom                sort, hvit   \n76      Pepinalove’s                      stor                      sort   \n79     Pride-n-joy's                      stor                      sort   \n80          Puddelås                      stor  sort, fawn(rød, aprikos)   \n81      Rayos de Sol                      stor  sort, fawn(rød, aprikos)   \n83            Remaro          stor, dverg, toy                sort, hvit   \n85    Saga's Magical                      stor                      sort   \n86         Schpindel                      stor                sort, hvit   \n87          Shameera                      stor                       grå   \n88     Sharp Dressed                      stor                      hvit   \n89         Shebonemo                      stor                       grå   \n91           Shining                      stor                      sort   \n92           Shirkus                      stor           sort, hvit, grå   \n94      Sjarmtrollet  stor, mellom, dverg, toy          sort, hvit, brun   \n95     Skrivarbakken       stor, mellom, dverg                sort, brun   \n96        Stribukken                      stor                      sort   \n99      Trollplassen               stor, dverg                sort, brun   \n100   Trønderkrøllan                      stor                sort, hvit   \n101          Ulfengs               stor, dverg                      sort   \n108         Voctaves                      stor                      sort   \n111     West-Antopaz              stor, mellom                sort, brun   \n113          Wirothi  stor, mellom, dverg, toy          sort, hvit, brun   \n\n                                                  Navn  \\\n2                                 Audunsdatter, Anette   \n4                                        Nilsson, Maud   \n5                               Strand, Martha Lomsdal   \n6                                Helleberg, Anne Karin   \n8                                         Wahl, Vivian   \n12                                 Larsen, Tone Gjerde   \n14   Lindgren, Tonje Marie Teigen Lindgren, Marie E...   \n16                               Steinback, Marthe-Pia   \n21                                Teigland, Elin Heide   \n22                                    Knudtzen, Wenche   \n25                                    Engevold, Astrid   \n27                             Byrløkken, Grete & Tove   \n29                                       Jensen, Diana   \n37                                     Johansen, Randi   \n40                               Kulpa, Katarzyna Kate   \n49                               Stubsve, Linn camilla   \n52                                    Dølbakken, Sonja   \n58                                      Lindboe, Mette   \n62                                Sperrevik, Kjell Ole   \n65                                      Rønning, Hilde   \n68                                   Sævareid, Hjørdis   \n70                                        Kindem, Kari   \n73                               Isaksen, Iris Tatjana   \n74                                    Sørensen, Gudrun   \n75                                   Mortensholm, Hege   \n76                                 Lisbeth K Jørgensen   \n79                         Glemmestad, Karin Margrethe   \n80                                     Nerholm, Åshild   \n81                                      Lynum, Camilla   \n83                                       Hjemgård, Eli   \n85                                   Hegglund, Kristin   \n86                                    Berg, Anne-Stine   \n87                             Steinsrud, Tordis Elise   \n88                                   Johansson, Barbro   \n89                                         Fegri, Mona   \n91                                     Bjerkaas, Bente   \n92                                      Tyrholm, Bente   \n94                                   Hattmyr, Ann-Mari   \n95                              Gimseng, Nils Kristian   \n96                                  Fægri, Rita Evelyn   \n99                                   Malmo, Jorid Sjem   \n100                              Skjøstad, Brit Vanvik   \n101                               Hanne Norberg-Schulz   \n108                                 Kotsbakk, Christin   \n111                                    Haugland, Anita   \n113                                Fiskerstrand, Hilde   \n\n                       Telefon                            Epost  \\\n2                  99 73 69 09                 anettem@live.com   \n4    63 98 32 08 - 47 32 79 94                              NaN   \n5                   954 70 190             martha.strand@me.com   \n6                   911 52 609               akahelle@online.no   \n8     63 90 20 36 - 926 54 932               disen-ga@online.no   \n12                 98 86 46 36             tone.g.l@hotmail.com   \n14   48 22 78 01 - 47 25 30 04           bergtjenna@hotmail.com   \n16                    94180683     marthe_steinback@hotmail.com   \n21                 92 85 48 52            elinheid@broadpark.no   \n22                 90 11 75 65               catwalkx@gmail.com   \n25                  977 99 988                astenge@online.no   \n27                 99 40 17 84                dajmen@dajmen.com   \n29                 46 67 46 03                              NaN   \n37                 41 31 11 22               randjoh2@online.no   \n40                 46 16 70 72              kulpakate@gmail.com   \n49                    41288514        ronbalt@kennelronbalt.com   \n52                  905 10 825             sdolbakk@hotmail.com   \n58                 90 85 47 34          mette.lindboe@gmail.com   \n62                 92 04 88 16                              NaN   \n65   90 61 03 77 - 97 09 60 51                 hilde@minada.org   \n68                 40 46 44 50       hjordis.poodles@icloud.com   \n70                 47 62 06 49            karifedje77@gmail.com   \n73                    90796903            tatjana.iti@gmail.com   \n74                 97 07 02 36               gudrunsw@online.no   \n75                 95 07 06 61       hege.mortensholm@gmail.com   \n76                    92286862  lisbeth.k.jorgensen@hotmail.com   \n79                    45401818        karinglemmestad@gmail.com   \n80                 98 48 58 37                nerholm@gmail.com   \n81                    91796188        camilla_lynum@hotmail.com   \n83                 90 83 03 55        contact@kennel-remaro.com   \n85                    92092707     kristin_hegglund@hotmail.com   \n86                 91 55 59 62             schpindel@hotmail.no   \n87   35 12 24 03 - 47 62 95 83          tordiselise@hotmail.com   \n88   69 83 84 25 - 97 97 89 23           barbro1820@outlook.com   \n89                    40455381             monafegri@icloud.com   \n91   66 80 19 78 - 95 17 47 81                              NaN   \n92                 90 78 95 96              shirkus@outlook.com   \n94                 45 04 36 96   annmari.sjarmtrollet@gmail.com   \n95                 97 18 58 50               nilskr-g@online.no   \n96                 90 94 23 73          aastroll-roa@hotmail.no   \n99                    99727882                 jorsje@online.no   \n100                45 23 08 26          vanvik-skjostad@live.no   \n101                   97010434               tnorber@getmail.no   \n108                   45279345       christin.kotsbakk@ntebb.no   \n111                 952 28 806                   anitah@live.no   \n113                 915 67 628              wirothi@hotmail.com   \n\n                                               Adresse  \n2                        Vikevegen 1895, 5568 Vikebygd  \n4                          Kisaveien 91, 2055 Nordkisa  \n5                      Marie Sørdalsvei 11F, Trondheim  \n6                        Bjørndalsveien 89, 1476 Rasta  \n8                         Disenvegen 32, 2160 Vormsund  \n12                            Vassbakken 4, 5550 Sveio  \n14   Ekebergveien 7, 3965 Herre Høyåsvegen 12 3727 ...  \n16              HINNØYVEIEN 1258, 9419 Sørvik, Harstad  \n21                       Goløkkveien 38, 2219 Brandval  \n22                     Klemmetsrudveien 3, 3449 Røyken  \n25                  Bjørgeseterveien 73, 2743 Harestua  \n27                                        2640 Vinstra  \n29                      Beisfjordveien 81, 8514 Narvik  \n37                         Nordsvaveien 1, 7270 Dyrvik  \n40                     Gaustadnesvegen 32, 6494 Vevang  \n49                                Valdresvegen 33, Gol  \n52                       Søndre Bergeberget 91, Hernes  \n58                         Okstadvegen 119 7078 Tiller  \n62                           Austre Lurane 23, 5200 Os  \n65                           Furuveien 2, 9700 Lakselv  \n68                              Hagavik, 5593 Skånevik  \n70                            Eidesåsen 208, 5750 Odda  \n73                       Løkenvegen 20B, 2080 Eidsvoll  \n74                    Dalefjerdingen 569, 1912 Enebakk  \n75                  Øvre Tvereggen 8 b, 7037 Trondheim  \n76                       Jupiterveien 13, 4843 Arendal  \n79                         Kroksundveien 427, Trøgstad  \n80                    Tordenskjoldsgate 5, Holmestrand  \n81                           Fjellgårdsvegen 246, Malm  \n83                        Festvåggården 24 A 8016 Bodø  \n85                       Dyrborgveien 7,7017 Trondheim  \n86                         Hagakleiva 24, 1950 Rømskog  \n87                             Hovedgt. 13, 3825 Lunde  \n88                      Glendeveien 77, 1820 Spydeberg  \n89                        Anviseren 5 A, 3520 Jevnaker  \n91                   Ulvetangenveien 43, 1816 Skiptvet  \n92                       Snippebakken 1, 1337 Sandvika  \n94                           Moveien 35, 1482 Nittedal  \n95                         Skrivarbakken 11, 7096 Kvål  \n96                             Åsenveien 121, 2740 Roa  \n99                                  Følling, Steinkjer  \n100                   Spongdalsvegen 416, 7070 Bosberg  \n101                           Laguneveien 3, 1659 torp  \n108                    Smistadvegen 15, 7026 Trondheim  \n111        Røldalsvegen 129/Hørtevegen 421, 3810 Gvarv  \n113                          Lakseberget 2, 3965 Herre  ",
      "text/html": "<div>\n<style scoped>\n    .dataframe tbody tr th:only-of-type {\n        vertical-align: middle;\n    }\n\n    .dataframe tbody tr th {\n        vertical-align: top;\n    }\n\n    .dataframe thead th {\n        text-align: right;\n    }\n</style>\n<table border=\"1\" class=\"dataframe\">\n  <thead>\n    <tr style=\"text-align: right;\">\n      <th></th>\n      <th>Kennelnavn</th>\n      <th>Størrelse</th>\n      <th>Farge</th>\n      <th>Navn</th>\n      <th>Telefon</th>\n      <th>Epost</th>\n      <th>Adresse</th>\n    </tr>\n  </thead>\n  <tbody>\n    <tr>\n      <th>2</th>\n      <td>Abroz</td>\n      <td>stor</td>\n      <td>grå</td>\n      <td>Audunsdatter, Anette</td>\n      <td>99 73 69 09</td>\n      <td>anettem@live.com</td>\n      <td>Vikevegen 1895, 5568 Vikebygd</td>\n    </tr>\n    <tr>\n      <th>4</th>\n      <td>Alchemy</td>\n      <td>stor</td>\n      <td>hvit</td>\n      <td>Nilsson, Maud</td>\n      <td>63 98 32 08 - 47 32 79 94</td>\n      <td>NaN</td>\n      <td>Kisaveien 91, 2055 Nordkisa</td>\n    </tr>\n    <tr>\n      <th>5</th>\n      <td>Ambiance</td>\n      <td>stor</td>\n      <td>sort, hvit</td>\n      <td>Strand, Martha Lomsdal</td>\n      <td>954 70 190</td>\n      <td>martha.strand@me.com</td>\n      <td>Marie Sørdalsvei 11F, Trondheim</td>\n    </tr>\n    <tr>\n      <th>6</th>\n      <td>Ankaru</td>\n      <td>stor, dverg, toy</td>\n      <td>sort, brun</td>\n      <td>Helleberg, Anne Karin</td>\n      <td>911 52 609</td>\n      <td>akahelle@online.no</td>\n      <td>Bjørndalsveien 89, 1476 Rasta</td>\n    </tr>\n    <tr>\n      <th>8</th>\n      <td>Ars Novas</td>\n      <td>stor</td>\n      <td>sort, brun</td>\n      <td>Wahl, Vivian</td>\n      <td>63 90 20 36 - 926 54 932</td>\n      <td>disen-ga@online.no</td>\n      <td>Disenvegen 32, 2160 Vormsund</td>\n    </tr>\n    <tr>\n      <th>12</th>\n      <td>Belladoux</td>\n      <td>stor</td>\n      <td>fawn(rød, aprikos), grå</td>\n      <td>Larsen, Tone Gjerde</td>\n      <td>98 86 46 36</td>\n      <td>tone.g.l@hotmail.com</td>\n      <td>Vassbakken 4, 5550 Sveio</td>\n    </tr>\n    <tr>\n      <th>14</th>\n      <td>Bergtjenna</td>\n      <td>stor, dverg, toy</td>\n      <td>sort, hvit</td>\n      <td>Lindgren, Tonje Marie Teigen Lindgren, Marie E...</td>\n      <td>48 22 78 01 - 47 25 30 04</td>\n      <td>bergtjenna@hotmail.com</td>\n      <td>Ekebergveien 7, 3965 Herre Høyåsvegen 12 3727 ...</td>\n    </tr>\n    <tr>\n      <th>16</th>\n      <td>BjørnePia</td>\n      <td>stor</td>\n      <td>sort, brun, fawn</td>\n      <td>Steinback, Marthe-Pia</td>\n      <td>94180683</td>\n      <td>marthe_steinback@hotmail.com</td>\n      <td>HINNØYVEIEN 1258, 9419 Sørvik, Harstad</td>\n    </tr>\n    <tr>\n      <th>21</th>\n      <td>Casbana</td>\n      <td>stor</td>\n      <td>sort, hvit</td>\n      <td>Teigland, Elin Heide</td>\n      <td>92 85 48 52</td>\n      <td>elinheid@broadpark.no</td>\n      <td>Goløkkveien 38, 2219 Brandval</td>\n    </tr>\n    <tr>\n      <th>22</th>\n      <td>Catwalk</td>\n      <td>stor</td>\n      <td>sort, hvit</td>\n      <td>Knudtzen, Wenche</td>\n      <td>90 11 75 65</td>\n      <td>catwalkx@gmail.com</td>\n      <td>Klemmetsrudveien 3, 3449 Røyken</td>\n    </tr>\n    <tr>\n      <th>25</th>\n      <td>Country Dreamer</td>\n      <td>stor, dverg</td>\n      <td>grå</td>\n      <td>Engevold, Astrid</td>\n      <td>977 99 988</td>\n      <td>astenge@online.no</td>\n      <td>Bjørgeseterveien 73, 2743 Harestua</td>\n    </tr>\n    <tr>\n      <th>27</th>\n      <td>Dajmen</td>\n      <td>stor</td>\n      <td>sort</td>\n      <td>Byrløkken, Grete &amp; Tove</td>\n      <td>99 40 17 84</td>\n      <td>dajmen@dajmen.com</td>\n      <td>2640 Vinstra</td>\n    </tr>\n    <tr>\n      <th>29</th>\n      <td>Dominart</td>\n      <td>stor</td>\n      <td>hvit</td>\n      <td>Jensen, Diana</td>\n      <td>46 67 46 03</td>\n      <td>NaN</td>\n      <td>Beisfjordveien 81, 8514 Narvik</td>\n    </tr>\n    <tr>\n      <th>37</th>\n      <td>Frøyapuddelen</td>\n      <td>stor</td>\n      <td>sort</td>\n      <td>Johansen, Randi</td>\n      <td>41 31 11 22</td>\n      <td>randjoh2@online.no</td>\n      <td>Nordsvaveien 1, 7270 Dyrvik</td>\n    </tr>\n    <tr>\n      <th>40</th>\n      <td>Happy Curl</td>\n      <td>stor</td>\n      <td>sort</td>\n      <td>Kulpa, Katarzyna Kate</td>\n      <td>46 16 70 72</td>\n      <td>kulpakate@gmail.com</td>\n      <td>Gaustadnesvegen 32, 6494 Vevang</td>\n    </tr>\n    <tr>\n      <th>49</th>\n      <td>Kennel Ronbalt</td>\n      <td>stor, mellom</td>\n      <td>fawn(rød, aprikos)</td>\n      <td>Stubsve, Linn camilla</td>\n      <td>41288514</td>\n      <td>ronbalt@kennelronbalt.com</td>\n      <td>Valdresvegen 33, Gol</td>\n    </tr>\n    <tr>\n      <th>52</th>\n      <td>Kennel Vintelli</td>\n      <td>stor</td>\n      <td>sort, fawn(rød, aprikos)</td>\n      <td>Dølbakken, Sonja</td>\n      <td>905 10 825</td>\n      <td>sdolbakk@hotmail.com</td>\n      <td>Søndre Bergeberget 91, Hernes</td>\n    </tr>\n    <tr>\n      <th>58</th>\n      <td>Madam Mim</td>\n      <td>stor</td>\n      <td>grå, hvit</td>\n      <td>Lindboe, Mette</td>\n      <td>90 85 47 34</td>\n      <td>mette.lindboe@gmail.com</td>\n      <td>Okstadvegen 119 7078 Tiller</td>\n    </tr>\n    <tr>\n      <th>62</th>\n      <td>Memories</td>\n      <td>stor</td>\n      <td>sort</td>\n      <td>Sperrevik, Kjell Ole</td>\n      <td>92 04 88 16</td>\n      <td>NaN</td>\n      <td>Austre Lurane 23, 5200 Os</td>\n    </tr>\n    <tr>\n      <th>65</th>\n      <td>Minada</td>\n      <td>stor</td>\n      <td>sort</td>\n      <td>Rønning, Hilde</td>\n      <td>90 61 03 77 - 97 09 60 51</td>\n      <td>hilde@minada.org</td>\n      <td>Furuveien 2, 9700 Lakselv</td>\n    </tr>\n    <tr>\n      <th>68</th>\n      <td>Molineux</td>\n      <td>stor, mellom</td>\n      <td>sort, hvit</td>\n      <td>Sævareid, Hjørdis</td>\n      <td>40 46 44 50</td>\n      <td>hjordis.poodles@icloud.com</td>\n      <td>Hagavik, 5593 Skånevik</td>\n    </tr>\n    <tr>\n      <th>70</th>\n      <td>Mountain Blizz</td>\n      <td>stor, mellom</td>\n      <td>sort, hvit</td>\n      <td>Kindem, Kari</td>\n      <td>47 62 06 49</td>\n      <td>karifedje77@gmail.com</td>\n      <td>Eidesåsen 208, 5750 Odda</td>\n    </tr>\n    <tr>\n      <th>73</th>\n      <td>MyCalida</td>\n      <td>stor, dverg</td>\n      <td>sort</td>\n      <td>Isaksen, Iris Tatjana</td>\n      <td>90796903</td>\n      <td>tatjana.iti@gmail.com</td>\n      <td>Løkenvegen 20B, 2080 Eidsvoll</td>\n    </tr>\n    <tr>\n      <th>74</th>\n      <td>Mydele</td>\n      <td>stor</td>\n      <td>brun</td>\n      <td>Sørensen, Gudrun</td>\n      <td>97 07 02 36</td>\n      <td>gudrunsw@online.no</td>\n      <td>Dalefjerdingen 569, 1912 Enebakk</td>\n    </tr>\n    <tr>\n      <th>75</th>\n      <td>New Headlines</td>\n      <td>stor, mellom</td>\n      <td>sort, hvit</td>\n      <td>Mortensholm, Hege</td>\n      <td>95 07 06 61</td>\n      <td>hege.mortensholm@gmail.com</td>\n      <td>Øvre Tvereggen 8 b, 7037 Trondheim</td>\n    </tr>\n    <tr>\n      <th>76</th>\n      <td>Pepinalove’s</td>\n      <td>stor</td>\n      <td>sort</td>\n      <td>Lisbeth K Jørgensen</td>\n      <td>92286862</td>\n      <td>lisbeth.k.jorgensen@hotmail.com</td>\n      <td>Jupiterveien 13, 4843 Arendal</td>\n    </tr>\n    <tr>\n      <th>79</th>\n      <td>Pride-n-joy's</td>\n      <td>stor</td>\n      <td>sort</td>\n      <td>Glemmestad, Karin Margrethe</td>\n      <td>45401818</td>\n      <td>karinglemmestad@gmail.com</td>\n      <td>Kroksundveien 427, Trøgstad</td>\n    </tr>\n    <tr>\n      <th>80</th>\n      <td>Puddelås</td>\n      <td>stor</td>\n      <td>sort, fawn(rød, aprikos)</td>\n      <td>Nerholm, Åshild</td>\n      <td>98 48 58 37</td>\n      <td>nerholm@gmail.com</td>\n      <td>Tordenskjoldsgate 5, Holmestrand</td>\n    </tr>\n    <tr>\n      <th>81</th>\n      <td>Rayos de Sol</td>\n      <td>stor</td>\n      <td>sort, fawn(rød, aprikos)</td>\n      <td>Lynum, Camilla</td>\n      <td>91796188</td>\n      <td>camilla_lynum@hotmail.com</td>\n      <td>Fjellgårdsvegen 246, Malm</td>\n    </tr>\n    <tr>\n      <th>83</th>\n      <td>Remaro</td>\n      <td>stor, dverg, toy</td>\n      <td>sort, hvit</td>\n      <td>Hjemgård, Eli</td>\n      <td>90 83 03 55</td>\n      <td>contact@kennel-remaro.com</td>\n      <td>Festvåggården 24 A 8016 Bodø</td>\n    </tr>\n    <tr>\n      <th>85</th>\n      <td>Saga's Magical</td>\n      <td>stor</td>\n      <td>sort</td>\n      <td>Hegglund, Kristin</td>\n      <td>92092707</td>\n      <td>kristin_hegglund@hotmail.com</td>\n      <td>Dyrborgveien 7,7017 Trondheim</td>\n    </tr>\n    <tr>\n      <th>86</th>\n      <td>Schpindel</td>\n      <td>stor</td>\n      <td>sort, hvit</td>\n      <td>Berg, Anne-Stine</td>\n      <td>91 55 59 62</td>\n      <td>schpindel@hotmail.no</td>\n      <td>Hagakleiva 24, 1950 Rømskog</td>\n    </tr>\n    <tr>\n      <th>87</th>\n      <td>Shameera</td>\n      <td>stor</td>\n      <td>grå</td>\n      <td>Steinsrud, Tordis Elise</td>\n      <td>35 12 24 03 - 47 62 95 83</td>\n      <td>tordiselise@hotmail.com</td>\n      <td>Hovedgt. 13, 3825 Lunde</td>\n    </tr>\n    <tr>\n      <th>88</th>\n      <td>Sharp Dressed</td>\n      <td>stor</td>\n      <td>hvit</td>\n      <td>Johansson, Barbro</td>\n      <td>69 83 84 25 - 97 97 89 23</td>\n      <td>barbro1820@outlook.com</td>\n      <td>Glendeveien 77, 1820 Spydeberg</td>\n    </tr>\n    <tr>\n      <th>89</th>\n      <td>Shebonemo</td>\n      <td>stor</td>\n      <td>grå</td>\n      <td>Fegri, Mona</td>\n      <td>40455381</td>\n      <td>monafegri@icloud.com</td>\n      <td>Anviseren 5 A, 3520 Jevnaker</td>\n    </tr>\n    <tr>\n      <th>91</th>\n      <td>Shining</td>\n      <td>stor</td>\n      <td>sort</td>\n      <td>Bjerkaas, Bente</td>\n      <td>66 80 19 78 - 95 17 47 81</td>\n      <td>NaN</td>\n      <td>Ulvetangenveien 43, 1816 Skiptvet</td>\n    </tr>\n    <tr>\n      <th>92</th>\n      <td>Shirkus</td>\n      <td>stor</td>\n      <td>sort, hvit, grå</td>\n      <td>Tyrholm, Bente</td>\n      <td>90 78 95 96</td>\n      <td>shirkus@outlook.com</td>\n      <td>Snippebakken 1, 1337 Sandvika</td>\n    </tr>\n    <tr>\n      <th>94</th>\n      <td>Sjarmtrollet</td>\n      <td>stor, mellom, dverg, toy</td>\n      <td>sort, hvit, brun</td>\n      <td>Hattmyr, Ann-Mari</td>\n      <td>45 04 36 96</td>\n      <td>annmari.sjarmtrollet@gmail.com</td>\n      <td>Moveien 35, 1482 Nittedal</td>\n    </tr>\n    <tr>\n      <th>95</th>\n      <td>Skrivarbakken</td>\n      <td>stor, mellom, dverg</td>\n      <td>sort, brun</td>\n      <td>Gimseng, Nils Kristian</td>\n      <td>97 18 58 50</td>\n      <td>nilskr-g@online.no</td>\n      <td>Skrivarbakken 11, 7096 Kvål</td>\n    </tr>\n    <tr>\n      <th>96</th>\n      <td>Stribukken</td>\n      <td>stor</td>\n      <td>sort</td>\n      <td>Fægri, Rita Evelyn</td>\n      <td>90 94 23 73</td>\n      <td>aastroll-roa@hotmail.no</td>\n      <td>Åsenveien 121, 2740 Roa</td>\n    </tr>\n    <tr>\n      <th>99</th>\n      <td>Trollplassen</td>\n      <td>stor, dverg</td>\n      <td>sort, brun</td>\n      <td>Malmo, Jorid Sjem</td>\n      <td>99727882</td>\n      <td>jorsje@online.no</td>\n      <td>Følling, Steinkjer</td>\n    </tr>\n    <tr>\n      <th>100</th>\n      <td>Trønderkrøllan</td>\n      <td>stor</td>\n      <td>sort, hvit</td>\n      <td>Skjøstad, Brit Vanvik</td>\n      <td>45 23 08 26</td>\n      <td>vanvik-skjostad@live.no</td>\n      <td>Spongdalsvegen 416, 7070 Bosberg</td>\n    </tr>\n    <tr>\n      <th>101</th>\n      <td>Ulfengs</td>\n      <td>stor, dverg</td>\n      <td>sort</td>\n      <td>Hanne Norberg-Schulz</td>\n      <td>97010434</td>\n      <td>tnorber@getmail.no</td>\n      <td>Laguneveien 3, 1659 torp</td>\n    </tr>\n    <tr>\n      <th>108</th>\n      <td>Voctaves</td>\n      <td>stor</td>\n      <td>sort</td>\n      <td>Kotsbakk, Christin</td>\n      <td>45279345</td>\n      <td>christin.kotsbakk@ntebb.no</td>\n      <td>Smistadvegen 15, 7026 Trondheim</td>\n    </tr>\n    <tr>\n      <th>111</th>\n      <td>West-Antopaz</td>\n      <td>stor, mellom</td>\n      <td>sort, brun</td>\n      <td>Haugland, Anita</td>\n      <td>952 28 806</td>\n      <td>anitah@live.no</td>\n      <td>Røldalsvegen 129/Hørtevegen 421, 3810 Gvarv</td>\n    </tr>\n    <tr>\n      <th>113</th>\n      <td>Wirothi</td>\n      <td>stor, mellom, dverg, toy</td>\n      <td>sort, hvit, brun</td>\n      <td>Fiskerstrand, Hilde</td>\n      <td>915 67 628</td>\n      <td>wirothi@hotmail.com</td>\n      <td>Lakseberget 2, 3965 Herre</td>\n    </tr>\n  </tbody>\n</table>\n</div>"
     },
     "execution_count": 92,
     "metadata": {},
     "output_type": "execute_result"
    }
   ],
   "source": [
    "poodles"
   ],
   "metadata": {
    "collapsed": false,
    "pycharm": {
     "name": "#%%\n"
    }
   }
  },
  {
   "cell_type": "code",
   "execution_count": 108,
   "outputs": [],
   "source": [
    "def parse_address(series: str):\n",
    "    loc = geocode(f\"{series}, Norway\")\n",
    "    if loc is not None:\n",
    "        return loc.point\n",
    "\n",
    "    return None\n",
    "\n",
    "points = poodles[\"Adresse\"].apply(parse_address)"
   ],
   "metadata": {
    "collapsed": false,
    "pycharm": {
     "name": "#%%\n"
    }
   }
  },
  {
   "cell_type": "code",
   "execution_count": 109,
   "outputs": [
    {
     "data": {
      "text/plain": "2       59 39m 7.15428s N, 5 34m 45.1898s E\n4      60 10m 49.0033s N, 11 16m 3.92268s E\n5      63 25m 49.8536s N, 10 23m 42.1901s E\n6       59 54m 45.572s N, 10 55m 17.6729s E\n8       60 9m 38.6222s N, 11 27m 33.4552s E\n12      59 34m 17.6657s N, 5 19m 15.3854s E\n14       59 6m 10.8853s N, 9 34m 17.2542s E\n16     68 41m 6.05004s N, 16 32m 4.29828s E\n21      60 19m 2.69076s N, 12 0m 52.4916s E\n22     59 44m 49.6028s N, 10 26m 57.9811s E\n25     60 12m 0.07884s N, 10 43m 3.50724s E\n27      61 35m 32.7638s N, 9 45m 24.1042s E\n29     68 24m 34.1406s N, 17 26m 52.9033s E\n37     69 16m 36.1229s N, 20 29m 47.3597s E\n40       63 0m 4.61016s N, 7 17m 9.07368s E\n49      60 42m 17.5871s N, 8 56m 6.49716s E\n52      61 0m 18.2308s N, 11 47m 0.99276s E\n58      63 22m 44.5994s N, 10 23m 12.574s E\n62      60 11m 3.42492s N, 5 28m 47.4776s E\n65      70 3m 0.47196s N, 24 56m 29.2769s E\n68        59 44m 8.943s N, 5 55m 7.85064s E\n70       60 3m 4.98744s N, 6 32m 12.6301s E\n73     60 17m 19.5954s N, 11 14m 23.7106s E\n74      59 41m 27.0445s N, 11 12m 0.5004s E\n75     63 23m 5.50392s N, 10 25m 21.3463s E\n76      58 28m 16.4622s N, 8 47m 4.04448s E\n79     59 38m 21.2017s N, 11 25m 23.5218s E\n80      59 29m 16.566s N, 10 18m 58.5929s E\n81      64 4m 37.7735s N, 11 13m 50.1802s E\n83     67 24m 30.3466s N, 14 38m 33.3125s E\n85      63 25m 38.298s N, 10 21m 51.6748s E\n86     59 44m 41.0147s N, 11 48m 4.17276s E\n87       59 17m 57.9379s N, 9 6m 22.1357s E\n88      59 37m 32.7814s N, 11 6m 24.6726s E\n89     60 14m 58.8376s N, 10 22m 22.9807s E\n91     59 26m 13.1885s N, 11 10m 32.7745s E\n92     59 52m 58.6765s N, 10 30m 17.9215s E\n94      60 2m 25.1707s N, 10 52m 48.2592s E\n95     63 13m 58.6956s N, 10 17m 4.20792s E\n96     60 17m 27.3318s N, 10 36m 57.0672s E\n99      64 0m 54.0695s N, 11 29m 42.9457s E\n100      63 23m 22.429s N, 10 9m 45.4511s E\n101    59 10m 56.8049s N, 10 15m 24.8836s E\n108    63 22m 30.2869s N, 10 18m 47.6906s E\n111      59 25m 14.4347s N, 9 9m 12.9269s E\n113      59 6m 16.2727s N, 9 33m 37.8565s E\nName: Adresse, dtype: object"
     },
     "execution_count": 109,
     "metadata": {},
     "output_type": "execute_result"
    }
   ],
   "source": [
    "points"
   ],
   "metadata": {
    "collapsed": false,
    "pycharm": {
     "name": "#%%\n"
    }
   }
  },
  {
   "cell_type": "code",
   "execution_count": 110,
   "outputs": [],
   "source": [
    "lats = [p.latitude if p is not None else 0 for p in points]\n",
    "longs = [p.longitude if p is not None else 0 for p in points]"
   ],
   "metadata": {
    "collapsed": false,
    "pycharm": {
     "name": "#%%\n"
    }
   }
  },
  {
   "cell_type": "code",
   "execution_count": 111,
   "outputs": [
    {
     "data": {
      "text/plain": "          Kennelnavn                 Størrelse                     Farge  \\\n2              Abroz                      stor                       grå   \n4            Alchemy                      stor                      hvit   \n5           Ambiance                      stor                sort, hvit   \n6             Ankaru          stor, dverg, toy                sort, brun   \n8          Ars Novas                      stor                sort, brun   \n12         Belladoux                      stor   fawn(rød, aprikos), grå   \n14        Bergtjenna          stor, dverg, toy                sort, hvit   \n16         BjørnePia                      stor          sort, brun, fawn   \n21           Casbana                      stor                sort, hvit   \n22           Catwalk                      stor                sort, hvit   \n25   Country Dreamer               stor, dverg                       grå   \n27            Dajmen                      stor                      sort   \n29          Dominart                      stor                      hvit   \n37     Frøyapuddelen                      stor                      sort   \n40        Happy Curl                      stor                      sort   \n49    Kennel Ronbalt              stor, mellom        fawn(rød, aprikos)   \n52   Kennel Vintelli                      stor  sort, fawn(rød, aprikos)   \n58         Madam Mim                      stor                 grå, hvit   \n62          Memories                      stor                      sort   \n65            Minada                      stor                      sort   \n68          Molineux              stor, mellom                sort, hvit   \n70    Mountain Blizz              stor, mellom                sort, hvit   \n73          MyCalida               stor, dverg                      sort   \n74            Mydele                      stor                      brun   \n75     New Headlines              stor, mellom                sort, hvit   \n76      Pepinalove’s                      stor                      sort   \n79     Pride-n-joy's                      stor                      sort   \n80          Puddelås                      stor  sort, fawn(rød, aprikos)   \n81      Rayos de Sol                      stor  sort, fawn(rød, aprikos)   \n83            Remaro          stor, dverg, toy                sort, hvit   \n85    Saga's Magical                      stor                      sort   \n86         Schpindel                      stor                sort, hvit   \n87          Shameera                      stor                       grå   \n88     Sharp Dressed                      stor                      hvit   \n89         Shebonemo                      stor                       grå   \n91           Shining                      stor                      sort   \n92           Shirkus                      stor           sort, hvit, grå   \n94      Sjarmtrollet  stor, mellom, dverg, toy          sort, hvit, brun   \n95     Skrivarbakken       stor, mellom, dverg                sort, brun   \n96        Stribukken                      stor                      sort   \n99      Trollplassen               stor, dverg                sort, brun   \n100   Trønderkrøllan                      stor                sort, hvit   \n101          Ulfengs               stor, dverg                      sort   \n108         Voctaves                      stor                      sort   \n111     West-Antopaz              stor, mellom                sort, brun   \n113          Wirothi  stor, mellom, dverg, toy          sort, hvit, brun   \n\n                                                  Navn  \\\n2                                 Audunsdatter, Anette   \n4                                        Nilsson, Maud   \n5                               Strand, Martha Lomsdal   \n6                                Helleberg, Anne Karin   \n8                                         Wahl, Vivian   \n12                                 Larsen, Tone Gjerde   \n14   Lindgren, Tonje Marie Teigen Lindgren, Marie E...   \n16                               Steinback, Marthe-Pia   \n21                                Teigland, Elin Heide   \n22                                    Knudtzen, Wenche   \n25                                    Engevold, Astrid   \n27                             Byrløkken, Grete & Tove   \n29                                       Jensen, Diana   \n37                                     Johansen, Randi   \n40                               Kulpa, Katarzyna Kate   \n49                               Stubsve, Linn camilla   \n52                                    Dølbakken, Sonja   \n58                                      Lindboe, Mette   \n62                                Sperrevik, Kjell Ole   \n65                                      Rønning, Hilde   \n68                                   Sævareid, Hjørdis   \n70                                        Kindem, Kari   \n73                               Isaksen, Iris Tatjana   \n74                                    Sørensen, Gudrun   \n75                                   Mortensholm, Hege   \n76                                 Lisbeth K Jørgensen   \n79                         Glemmestad, Karin Margrethe   \n80                                     Nerholm, Åshild   \n81                                      Lynum, Camilla   \n83                                       Hjemgård, Eli   \n85                                   Hegglund, Kristin   \n86                                    Berg, Anne-Stine   \n87                             Steinsrud, Tordis Elise   \n88                                   Johansson, Barbro   \n89                                         Fegri, Mona   \n91                                     Bjerkaas, Bente   \n92                                      Tyrholm, Bente   \n94                                   Hattmyr, Ann-Mari   \n95                              Gimseng, Nils Kristian   \n96                                  Fægri, Rita Evelyn   \n99                                   Malmo, Jorid Sjem   \n100                              Skjøstad, Brit Vanvik   \n101                               Hanne Norberg-Schulz   \n108                                 Kotsbakk, Christin   \n111                                    Haugland, Anita   \n113                                Fiskerstrand, Hilde   \n\n                       Telefon                            Epost  \\\n2                  99 73 69 09                 anettem@live.com   \n4    63 98 32 08 - 47 32 79 94                              NaN   \n5                   954 70 190             martha.strand@me.com   \n6                   911 52 609               akahelle@online.no   \n8     63 90 20 36 - 926 54 932               disen-ga@online.no   \n12                 98 86 46 36             tone.g.l@hotmail.com   \n14   48 22 78 01 - 47 25 30 04           bergtjenna@hotmail.com   \n16                    94180683     marthe_steinback@hotmail.com   \n21                 92 85 48 52            elinheid@broadpark.no   \n22                 90 11 75 65               catwalkx@gmail.com   \n25                  977 99 988                astenge@online.no   \n27                 99 40 17 84                dajmen@dajmen.com   \n29                 46 67 46 03                              NaN   \n37                 41 31 11 22               randjoh2@online.no   \n40                 46 16 70 72              kulpakate@gmail.com   \n49                    41288514        ronbalt@kennelronbalt.com   \n52                  905 10 825             sdolbakk@hotmail.com   \n58                 90 85 47 34          mette.lindboe@gmail.com   \n62                 92 04 88 16                              NaN   \n65   90 61 03 77 - 97 09 60 51                 hilde@minada.org   \n68                 40 46 44 50       hjordis.poodles@icloud.com   \n70                 47 62 06 49            karifedje77@gmail.com   \n73                    90796903            tatjana.iti@gmail.com   \n74                 97 07 02 36               gudrunsw@online.no   \n75                 95 07 06 61       hege.mortensholm@gmail.com   \n76                    92286862  lisbeth.k.jorgensen@hotmail.com   \n79                    45401818        karinglemmestad@gmail.com   \n80                 98 48 58 37                nerholm@gmail.com   \n81                    91796188        camilla_lynum@hotmail.com   \n83                 90 83 03 55        contact@kennel-remaro.com   \n85                    92092707     kristin_hegglund@hotmail.com   \n86                 91 55 59 62             schpindel@hotmail.no   \n87   35 12 24 03 - 47 62 95 83          tordiselise@hotmail.com   \n88   69 83 84 25 - 97 97 89 23           barbro1820@outlook.com   \n89                    40455381             monafegri@icloud.com   \n91   66 80 19 78 - 95 17 47 81                              NaN   \n92                 90 78 95 96              shirkus@outlook.com   \n94                 45 04 36 96   annmari.sjarmtrollet@gmail.com   \n95                 97 18 58 50               nilskr-g@online.no   \n96                 90 94 23 73          aastroll-roa@hotmail.no   \n99                    99727882                 jorsje@online.no   \n100                45 23 08 26          vanvik-skjostad@live.no   \n101                   97010434               tnorber@getmail.no   \n108                   45279345       christin.kotsbakk@ntebb.no   \n111                 952 28 806                   anitah@live.no   \n113                 915 67 628              wirothi@hotmail.com   \n\n                                               Adresse        Lat       Long  \n2                        Vikevegen 1895, 5568 Vikebygd  59.651987   5.579219  \n4                          Kisaveien 91, 2055 Nordkisa  60.180279  11.267756  \n5                      Marie Sørdalsvei 11F, Trondheim  63.430515  10.395053  \n6                        Bjørndalsveien 89, 1476 Rasta  59.912659  10.921576  \n8                         Disenvegen 32, 2160 Vormsund  60.160728  11.459293  \n12                            Vassbakken 4, 5550 Sveio  59.571574   5.320940  \n14   Ekebergveien 7, 3965 Herre Høyåsvegen 12 3727 ...  59.103024   9.571459  \n16              HINNØYVEIEN 1258, 9419 Sørvik, Harstad  68.685014  16.534527  \n21                       Goløkkveien 38, 2219 Brandval  60.317414  12.014581  \n22                     Klemmetsrudveien 3, 3449 Røyken  59.747112  10.449439  \n25                  Bjørgeseterveien 73, 2743 Harestua  60.200022  10.717641  \n27                                        2640 Vinstra  61.592434   9.756696  \n29                      Beisfjordveien 81, 8514 Narvik  68.409483  17.448029  \n37                         Nordsvaveien 1, 7270 Dyrvik  69.276701  20.496489  \n40                     Gaustadnesvegen 32, 6494 Vevang  63.001281   7.285854  \n49                                Valdresvegen 33, Gol  60.704885   8.935138  \n52                       Søndre Bergeberget 91, Hernes  61.005064  11.783609  \n58                         Okstadvegen 119 7078 Tiller  63.379055  10.386826  \n62                           Austre Lurane 23, 5200 Os  60.184285   5.479855  \n65                           Furuveien 2, 9700 Lakselv  70.050131  24.941466  \n68                              Hagavik, 5593 Skånevik  59.735818   5.918847  \n70                            Eidesåsen 208, 5750 Odda  60.051385   6.536842  \n73                       Løkenvegen 20B, 2080 Eidsvoll  60.288776  11.239920  \n74                    Dalefjerdingen 569, 1912 Enebakk  59.690846  11.200139  \n75                  Øvre Tvereggen 8 b, 7037 Trondheim  63.384862  10.422596  \n76                       Jupiterveien 13, 4843 Arendal  58.471239   8.784457  \n79                         Kroksundveien 427, Trøgstad  59.639223  11.423201  \n80                    Tordenskjoldsgate 5, Holmestrand  59.487935  10.316276  \n81                           Fjellgårdsvegen 246, Malm  64.077159  11.230606  \n83                        Festvåggården 24 A 8016 Bodø  67.408430  14.642587  \n85                       Dyrborgveien 7,7017 Trondheim  63.427305  10.364354  \n86                         Hagakleiva 24, 1950 Rømskog  59.744726  11.801159  \n87                             Hovedgt. 13, 3825 Lunde  59.299427   9.106149  \n88                      Glendeveien 77, 1820 Spydeberg  59.625773  11.106853  \n89                        Anviseren 5 A, 3520 Jevnaker  60.249677  10.373050  \n91                   Ulvetangenveien 43, 1816 Skiptvet  59.436997  11.175771  \n92                       Snippebakken 1, 1337 Sandvika  59.882966  10.504978  \n94                           Moveien 35, 1482 Nittedal  60.040325  10.880072  \n95                         Skrivarbakken 11, 7096 Kvål  63.232971  10.284502  \n96                             Åsenveien 121, 2740 Roa  60.290926  10.615852  \n99                                  Følling, Steinkjer  64.015019  11.495263  \n100                   Spongdalsvegen 416, 7070 Bosberg  63.389564  10.162625  \n101                           Laguneveien 3, 1659 torp  59.182446  10.256912  \n108                    Smistadvegen 15, 7026 Trondheim  63.375080  10.313247  \n111        Røldalsvegen 129/Hørtevegen 421, 3810 Gvarv  59.420676   9.153591  \n113                          Lakseberget 2, 3965 Herre  59.104520   9.560516  ",
      "text/html": "<div>\n<style scoped>\n    .dataframe tbody tr th:only-of-type {\n        vertical-align: middle;\n    }\n\n    .dataframe tbody tr th {\n        vertical-align: top;\n    }\n\n    .dataframe thead th {\n        text-align: right;\n    }\n</style>\n<table border=\"1\" class=\"dataframe\">\n  <thead>\n    <tr style=\"text-align: right;\">\n      <th></th>\n      <th>Kennelnavn</th>\n      <th>Størrelse</th>\n      <th>Farge</th>\n      <th>Navn</th>\n      <th>Telefon</th>\n      <th>Epost</th>\n      <th>Adresse</th>\n      <th>Lat</th>\n      <th>Long</th>\n    </tr>\n  </thead>\n  <tbody>\n    <tr>\n      <th>2</th>\n      <td>Abroz</td>\n      <td>stor</td>\n      <td>grå</td>\n      <td>Audunsdatter, Anette</td>\n      <td>99 73 69 09</td>\n      <td>anettem@live.com</td>\n      <td>Vikevegen 1895, 5568 Vikebygd</td>\n      <td>59.651987</td>\n      <td>5.579219</td>\n    </tr>\n    <tr>\n      <th>4</th>\n      <td>Alchemy</td>\n      <td>stor</td>\n      <td>hvit</td>\n      <td>Nilsson, Maud</td>\n      <td>63 98 32 08 - 47 32 79 94</td>\n      <td>NaN</td>\n      <td>Kisaveien 91, 2055 Nordkisa</td>\n      <td>60.180279</td>\n      <td>11.267756</td>\n    </tr>\n    <tr>\n      <th>5</th>\n      <td>Ambiance</td>\n      <td>stor</td>\n      <td>sort, hvit</td>\n      <td>Strand, Martha Lomsdal</td>\n      <td>954 70 190</td>\n      <td>martha.strand@me.com</td>\n      <td>Marie Sørdalsvei 11F, Trondheim</td>\n      <td>63.430515</td>\n      <td>10.395053</td>\n    </tr>\n    <tr>\n      <th>6</th>\n      <td>Ankaru</td>\n      <td>stor, dverg, toy</td>\n      <td>sort, brun</td>\n      <td>Helleberg, Anne Karin</td>\n      <td>911 52 609</td>\n      <td>akahelle@online.no</td>\n      <td>Bjørndalsveien 89, 1476 Rasta</td>\n      <td>59.912659</td>\n      <td>10.921576</td>\n    </tr>\n    <tr>\n      <th>8</th>\n      <td>Ars Novas</td>\n      <td>stor</td>\n      <td>sort, brun</td>\n      <td>Wahl, Vivian</td>\n      <td>63 90 20 36 - 926 54 932</td>\n      <td>disen-ga@online.no</td>\n      <td>Disenvegen 32, 2160 Vormsund</td>\n      <td>60.160728</td>\n      <td>11.459293</td>\n    </tr>\n    <tr>\n      <th>12</th>\n      <td>Belladoux</td>\n      <td>stor</td>\n      <td>fawn(rød, aprikos), grå</td>\n      <td>Larsen, Tone Gjerde</td>\n      <td>98 86 46 36</td>\n      <td>tone.g.l@hotmail.com</td>\n      <td>Vassbakken 4, 5550 Sveio</td>\n      <td>59.571574</td>\n      <td>5.320940</td>\n    </tr>\n    <tr>\n      <th>14</th>\n      <td>Bergtjenna</td>\n      <td>stor, dverg, toy</td>\n      <td>sort, hvit</td>\n      <td>Lindgren, Tonje Marie Teigen Lindgren, Marie E...</td>\n      <td>48 22 78 01 - 47 25 30 04</td>\n      <td>bergtjenna@hotmail.com</td>\n      <td>Ekebergveien 7, 3965 Herre Høyåsvegen 12 3727 ...</td>\n      <td>59.103024</td>\n      <td>9.571459</td>\n    </tr>\n    <tr>\n      <th>16</th>\n      <td>BjørnePia</td>\n      <td>stor</td>\n      <td>sort, brun, fawn</td>\n      <td>Steinback, Marthe-Pia</td>\n      <td>94180683</td>\n      <td>marthe_steinback@hotmail.com</td>\n      <td>HINNØYVEIEN 1258, 9419 Sørvik, Harstad</td>\n      <td>68.685014</td>\n      <td>16.534527</td>\n    </tr>\n    <tr>\n      <th>21</th>\n      <td>Casbana</td>\n      <td>stor</td>\n      <td>sort, hvit</td>\n      <td>Teigland, Elin Heide</td>\n      <td>92 85 48 52</td>\n      <td>elinheid@broadpark.no</td>\n      <td>Goløkkveien 38, 2219 Brandval</td>\n      <td>60.317414</td>\n      <td>12.014581</td>\n    </tr>\n    <tr>\n      <th>22</th>\n      <td>Catwalk</td>\n      <td>stor</td>\n      <td>sort, hvit</td>\n      <td>Knudtzen, Wenche</td>\n      <td>90 11 75 65</td>\n      <td>catwalkx@gmail.com</td>\n      <td>Klemmetsrudveien 3, 3449 Røyken</td>\n      <td>59.747112</td>\n      <td>10.449439</td>\n    </tr>\n    <tr>\n      <th>25</th>\n      <td>Country Dreamer</td>\n      <td>stor, dverg</td>\n      <td>grå</td>\n      <td>Engevold, Astrid</td>\n      <td>977 99 988</td>\n      <td>astenge@online.no</td>\n      <td>Bjørgeseterveien 73, 2743 Harestua</td>\n      <td>60.200022</td>\n      <td>10.717641</td>\n    </tr>\n    <tr>\n      <th>27</th>\n      <td>Dajmen</td>\n      <td>stor</td>\n      <td>sort</td>\n      <td>Byrløkken, Grete &amp; Tove</td>\n      <td>99 40 17 84</td>\n      <td>dajmen@dajmen.com</td>\n      <td>2640 Vinstra</td>\n      <td>61.592434</td>\n      <td>9.756696</td>\n    </tr>\n    <tr>\n      <th>29</th>\n      <td>Dominart</td>\n      <td>stor</td>\n      <td>hvit</td>\n      <td>Jensen, Diana</td>\n      <td>46 67 46 03</td>\n      <td>NaN</td>\n      <td>Beisfjordveien 81, 8514 Narvik</td>\n      <td>68.409483</td>\n      <td>17.448029</td>\n    </tr>\n    <tr>\n      <th>37</th>\n      <td>Frøyapuddelen</td>\n      <td>stor</td>\n      <td>sort</td>\n      <td>Johansen, Randi</td>\n      <td>41 31 11 22</td>\n      <td>randjoh2@online.no</td>\n      <td>Nordsvaveien 1, 7270 Dyrvik</td>\n      <td>69.276701</td>\n      <td>20.496489</td>\n    </tr>\n    <tr>\n      <th>40</th>\n      <td>Happy Curl</td>\n      <td>stor</td>\n      <td>sort</td>\n      <td>Kulpa, Katarzyna Kate</td>\n      <td>46 16 70 72</td>\n      <td>kulpakate@gmail.com</td>\n      <td>Gaustadnesvegen 32, 6494 Vevang</td>\n      <td>63.001281</td>\n      <td>7.285854</td>\n    </tr>\n    <tr>\n      <th>49</th>\n      <td>Kennel Ronbalt</td>\n      <td>stor, mellom</td>\n      <td>fawn(rød, aprikos)</td>\n      <td>Stubsve, Linn camilla</td>\n      <td>41288514</td>\n      <td>ronbalt@kennelronbalt.com</td>\n      <td>Valdresvegen 33, Gol</td>\n      <td>60.704885</td>\n      <td>8.935138</td>\n    </tr>\n    <tr>\n      <th>52</th>\n      <td>Kennel Vintelli</td>\n      <td>stor</td>\n      <td>sort, fawn(rød, aprikos)</td>\n      <td>Dølbakken, Sonja</td>\n      <td>905 10 825</td>\n      <td>sdolbakk@hotmail.com</td>\n      <td>Søndre Bergeberget 91, Hernes</td>\n      <td>61.005064</td>\n      <td>11.783609</td>\n    </tr>\n    <tr>\n      <th>58</th>\n      <td>Madam Mim</td>\n      <td>stor</td>\n      <td>grå, hvit</td>\n      <td>Lindboe, Mette</td>\n      <td>90 85 47 34</td>\n      <td>mette.lindboe@gmail.com</td>\n      <td>Okstadvegen 119 7078 Tiller</td>\n      <td>63.379055</td>\n      <td>10.386826</td>\n    </tr>\n    <tr>\n      <th>62</th>\n      <td>Memories</td>\n      <td>stor</td>\n      <td>sort</td>\n      <td>Sperrevik, Kjell Ole</td>\n      <td>92 04 88 16</td>\n      <td>NaN</td>\n      <td>Austre Lurane 23, 5200 Os</td>\n      <td>60.184285</td>\n      <td>5.479855</td>\n    </tr>\n    <tr>\n      <th>65</th>\n      <td>Minada</td>\n      <td>stor</td>\n      <td>sort</td>\n      <td>Rønning, Hilde</td>\n      <td>90 61 03 77 - 97 09 60 51</td>\n      <td>hilde@minada.org</td>\n      <td>Furuveien 2, 9700 Lakselv</td>\n      <td>70.050131</td>\n      <td>24.941466</td>\n    </tr>\n    <tr>\n      <th>68</th>\n      <td>Molineux</td>\n      <td>stor, mellom</td>\n      <td>sort, hvit</td>\n      <td>Sævareid, Hjørdis</td>\n      <td>40 46 44 50</td>\n      <td>hjordis.poodles@icloud.com</td>\n      <td>Hagavik, 5593 Skånevik</td>\n      <td>59.735818</td>\n      <td>5.918847</td>\n    </tr>\n    <tr>\n      <th>70</th>\n      <td>Mountain Blizz</td>\n      <td>stor, mellom</td>\n      <td>sort, hvit</td>\n      <td>Kindem, Kari</td>\n      <td>47 62 06 49</td>\n      <td>karifedje77@gmail.com</td>\n      <td>Eidesåsen 208, 5750 Odda</td>\n      <td>60.051385</td>\n      <td>6.536842</td>\n    </tr>\n    <tr>\n      <th>73</th>\n      <td>MyCalida</td>\n      <td>stor, dverg</td>\n      <td>sort</td>\n      <td>Isaksen, Iris Tatjana</td>\n      <td>90796903</td>\n      <td>tatjana.iti@gmail.com</td>\n      <td>Løkenvegen 20B, 2080 Eidsvoll</td>\n      <td>60.288776</td>\n      <td>11.239920</td>\n    </tr>\n    <tr>\n      <th>74</th>\n      <td>Mydele</td>\n      <td>stor</td>\n      <td>brun</td>\n      <td>Sørensen, Gudrun</td>\n      <td>97 07 02 36</td>\n      <td>gudrunsw@online.no</td>\n      <td>Dalefjerdingen 569, 1912 Enebakk</td>\n      <td>59.690846</td>\n      <td>11.200139</td>\n    </tr>\n    <tr>\n      <th>75</th>\n      <td>New Headlines</td>\n      <td>stor, mellom</td>\n      <td>sort, hvit</td>\n      <td>Mortensholm, Hege</td>\n      <td>95 07 06 61</td>\n      <td>hege.mortensholm@gmail.com</td>\n      <td>Øvre Tvereggen 8 b, 7037 Trondheim</td>\n      <td>63.384862</td>\n      <td>10.422596</td>\n    </tr>\n    <tr>\n      <th>76</th>\n      <td>Pepinalove’s</td>\n      <td>stor</td>\n      <td>sort</td>\n      <td>Lisbeth K Jørgensen</td>\n      <td>92286862</td>\n      <td>lisbeth.k.jorgensen@hotmail.com</td>\n      <td>Jupiterveien 13, 4843 Arendal</td>\n      <td>58.471239</td>\n      <td>8.784457</td>\n    </tr>\n    <tr>\n      <th>79</th>\n      <td>Pride-n-joy's</td>\n      <td>stor</td>\n      <td>sort</td>\n      <td>Glemmestad, Karin Margrethe</td>\n      <td>45401818</td>\n      <td>karinglemmestad@gmail.com</td>\n      <td>Kroksundveien 427, Trøgstad</td>\n      <td>59.639223</td>\n      <td>11.423201</td>\n    </tr>\n    <tr>\n      <th>80</th>\n      <td>Puddelås</td>\n      <td>stor</td>\n      <td>sort, fawn(rød, aprikos)</td>\n      <td>Nerholm, Åshild</td>\n      <td>98 48 58 37</td>\n      <td>nerholm@gmail.com</td>\n      <td>Tordenskjoldsgate 5, Holmestrand</td>\n      <td>59.487935</td>\n      <td>10.316276</td>\n    </tr>\n    <tr>\n      <th>81</th>\n      <td>Rayos de Sol</td>\n      <td>stor</td>\n      <td>sort, fawn(rød, aprikos)</td>\n      <td>Lynum, Camilla</td>\n      <td>91796188</td>\n      <td>camilla_lynum@hotmail.com</td>\n      <td>Fjellgårdsvegen 246, Malm</td>\n      <td>64.077159</td>\n      <td>11.230606</td>\n    </tr>\n    <tr>\n      <th>83</th>\n      <td>Remaro</td>\n      <td>stor, dverg, toy</td>\n      <td>sort, hvit</td>\n      <td>Hjemgård, Eli</td>\n      <td>90 83 03 55</td>\n      <td>contact@kennel-remaro.com</td>\n      <td>Festvåggården 24 A 8016 Bodø</td>\n      <td>67.408430</td>\n      <td>14.642587</td>\n    </tr>\n    <tr>\n      <th>85</th>\n      <td>Saga's Magical</td>\n      <td>stor</td>\n      <td>sort</td>\n      <td>Hegglund, Kristin</td>\n      <td>92092707</td>\n      <td>kristin_hegglund@hotmail.com</td>\n      <td>Dyrborgveien 7,7017 Trondheim</td>\n      <td>63.427305</td>\n      <td>10.364354</td>\n    </tr>\n    <tr>\n      <th>86</th>\n      <td>Schpindel</td>\n      <td>stor</td>\n      <td>sort, hvit</td>\n      <td>Berg, Anne-Stine</td>\n      <td>91 55 59 62</td>\n      <td>schpindel@hotmail.no</td>\n      <td>Hagakleiva 24, 1950 Rømskog</td>\n      <td>59.744726</td>\n      <td>11.801159</td>\n    </tr>\n    <tr>\n      <th>87</th>\n      <td>Shameera</td>\n      <td>stor</td>\n      <td>grå</td>\n      <td>Steinsrud, Tordis Elise</td>\n      <td>35 12 24 03 - 47 62 95 83</td>\n      <td>tordiselise@hotmail.com</td>\n      <td>Hovedgt. 13, 3825 Lunde</td>\n      <td>59.299427</td>\n      <td>9.106149</td>\n    </tr>\n    <tr>\n      <th>88</th>\n      <td>Sharp Dressed</td>\n      <td>stor</td>\n      <td>hvit</td>\n      <td>Johansson, Barbro</td>\n      <td>69 83 84 25 - 97 97 89 23</td>\n      <td>barbro1820@outlook.com</td>\n      <td>Glendeveien 77, 1820 Spydeberg</td>\n      <td>59.625773</td>\n      <td>11.106853</td>\n    </tr>\n    <tr>\n      <th>89</th>\n      <td>Shebonemo</td>\n      <td>stor</td>\n      <td>grå</td>\n      <td>Fegri, Mona</td>\n      <td>40455381</td>\n      <td>monafegri@icloud.com</td>\n      <td>Anviseren 5 A, 3520 Jevnaker</td>\n      <td>60.249677</td>\n      <td>10.373050</td>\n    </tr>\n    <tr>\n      <th>91</th>\n      <td>Shining</td>\n      <td>stor</td>\n      <td>sort</td>\n      <td>Bjerkaas, Bente</td>\n      <td>66 80 19 78 - 95 17 47 81</td>\n      <td>NaN</td>\n      <td>Ulvetangenveien 43, 1816 Skiptvet</td>\n      <td>59.436997</td>\n      <td>11.175771</td>\n    </tr>\n    <tr>\n      <th>92</th>\n      <td>Shirkus</td>\n      <td>stor</td>\n      <td>sort, hvit, grå</td>\n      <td>Tyrholm, Bente</td>\n      <td>90 78 95 96</td>\n      <td>shirkus@outlook.com</td>\n      <td>Snippebakken 1, 1337 Sandvika</td>\n      <td>59.882966</td>\n      <td>10.504978</td>\n    </tr>\n    <tr>\n      <th>94</th>\n      <td>Sjarmtrollet</td>\n      <td>stor, mellom, dverg, toy</td>\n      <td>sort, hvit, brun</td>\n      <td>Hattmyr, Ann-Mari</td>\n      <td>45 04 36 96</td>\n      <td>annmari.sjarmtrollet@gmail.com</td>\n      <td>Moveien 35, 1482 Nittedal</td>\n      <td>60.040325</td>\n      <td>10.880072</td>\n    </tr>\n    <tr>\n      <th>95</th>\n      <td>Skrivarbakken</td>\n      <td>stor, mellom, dverg</td>\n      <td>sort, brun</td>\n      <td>Gimseng, Nils Kristian</td>\n      <td>97 18 58 50</td>\n      <td>nilskr-g@online.no</td>\n      <td>Skrivarbakken 11, 7096 Kvål</td>\n      <td>63.232971</td>\n      <td>10.284502</td>\n    </tr>\n    <tr>\n      <th>96</th>\n      <td>Stribukken</td>\n      <td>stor</td>\n      <td>sort</td>\n      <td>Fægri, Rita Evelyn</td>\n      <td>90 94 23 73</td>\n      <td>aastroll-roa@hotmail.no</td>\n      <td>Åsenveien 121, 2740 Roa</td>\n      <td>60.290926</td>\n      <td>10.615852</td>\n    </tr>\n    <tr>\n      <th>99</th>\n      <td>Trollplassen</td>\n      <td>stor, dverg</td>\n      <td>sort, brun</td>\n      <td>Malmo, Jorid Sjem</td>\n      <td>99727882</td>\n      <td>jorsje@online.no</td>\n      <td>Følling, Steinkjer</td>\n      <td>64.015019</td>\n      <td>11.495263</td>\n    </tr>\n    <tr>\n      <th>100</th>\n      <td>Trønderkrøllan</td>\n      <td>stor</td>\n      <td>sort, hvit</td>\n      <td>Skjøstad, Brit Vanvik</td>\n      <td>45 23 08 26</td>\n      <td>vanvik-skjostad@live.no</td>\n      <td>Spongdalsvegen 416, 7070 Bosberg</td>\n      <td>63.389564</td>\n      <td>10.162625</td>\n    </tr>\n    <tr>\n      <th>101</th>\n      <td>Ulfengs</td>\n      <td>stor, dverg</td>\n      <td>sort</td>\n      <td>Hanne Norberg-Schulz</td>\n      <td>97010434</td>\n      <td>tnorber@getmail.no</td>\n      <td>Laguneveien 3, 1659 torp</td>\n      <td>59.182446</td>\n      <td>10.256912</td>\n    </tr>\n    <tr>\n      <th>108</th>\n      <td>Voctaves</td>\n      <td>stor</td>\n      <td>sort</td>\n      <td>Kotsbakk, Christin</td>\n      <td>45279345</td>\n      <td>christin.kotsbakk@ntebb.no</td>\n      <td>Smistadvegen 15, 7026 Trondheim</td>\n      <td>63.375080</td>\n      <td>10.313247</td>\n    </tr>\n    <tr>\n      <th>111</th>\n      <td>West-Antopaz</td>\n      <td>stor, mellom</td>\n      <td>sort, brun</td>\n      <td>Haugland, Anita</td>\n      <td>952 28 806</td>\n      <td>anitah@live.no</td>\n      <td>Røldalsvegen 129/Hørtevegen 421, 3810 Gvarv</td>\n      <td>59.420676</td>\n      <td>9.153591</td>\n    </tr>\n    <tr>\n      <th>113</th>\n      <td>Wirothi</td>\n      <td>stor, mellom, dverg, toy</td>\n      <td>sort, hvit, brun</td>\n      <td>Fiskerstrand, Hilde</td>\n      <td>915 67 628</td>\n      <td>wirothi@hotmail.com</td>\n      <td>Lakseberget 2, 3965 Herre</td>\n      <td>59.104520</td>\n      <td>9.560516</td>\n    </tr>\n  </tbody>\n</table>\n</div>"
     },
     "execution_count": 111,
     "metadata": {},
     "output_type": "execute_result"
    }
   ],
   "source": [
    "poodles[\"Lat\"] = lats\n",
    "poodles[\"Long\"] = longs\n",
    "poodles"
   ],
   "metadata": {
    "collapsed": false,
    "pycharm": {
     "name": "#%%\n"
    }
   }
  },
  {
   "cell_type": "code",
   "execution_count": 112,
   "outputs": [],
   "source": [
    "px.set_mapbox_access_token(open(\".mapbox-token\").read())"
   ],
   "metadata": {
    "collapsed": false,
    "pycharm": {
     "name": "#%%\n"
    }
   }
  },
  {
   "cell_type": "code",
   "execution_count": 113,
   "outputs": [
    {
     "data": {
      "application/vnd.plotly.v1+json": {
       "data": [
        {
         "hovertemplate": "<b>%{hovertext}</b><br><br>Kennelnavn=%{text}<br>Lat=%{lat}<br>Long=%{lon}<extra></extra>",
         "hovertext": [
          "grå",
          "hvit",
          "sort, hvit",
          "sort, brun",
          "sort, brun",
          "fawn(rød, aprikos), grå",
          "sort, hvit",
          "sort, brun, fawn",
          "sort, hvit",
          "sort, hvit",
          "grå",
          "sort",
          "hvit",
          "sort",
          "sort",
          "fawn(rød, aprikos)",
          "sort, fawn(rød, aprikos)",
          "grå, hvit",
          "sort",
          "sort",
          "sort, hvit",
          "sort, hvit",
          "sort",
          "brun",
          "sort, hvit",
          "sort",
          "sort",
          "sort, fawn(rød, aprikos)",
          "sort, fawn(rød, aprikos)",
          "sort, hvit",
          "sort",
          "sort, hvit",
          "grå",
          "hvit",
          "grå",
          "sort",
          "sort, hvit, grå",
          "sort, hvit, brun",
          "sort, brun",
          "sort",
          "sort, brun",
          "sort, hvit",
          "sort",
          "sort",
          "sort, brun",
          "sort, hvit, brun"
         ],
         "lat": [
          59.65198729999999,
          60.1802787,
          63.4305149,
          59.9126589,
          60.1607284,
          59.57157379999999,
          59.10302369999999,
          68.6850139,
          60.3174141,
          59.74711190000001,
          60.2000219,
          61.59243439999999,
          68.4094835,
          69.2767008,
          63.00128059999999,
          60.7048853,
          61.00506410000001,
          63.3790554,
          60.1842847,
          70.0501311,
          59.7358175,
          60.05138539999999,
          60.2887765,
          59.6908457,
          63.3848622,
          58.47123949999999,
          59.63922269999999,
          59.48793500000001,
          64.07715929999999,
          67.40842959999999,
          63.427305,
          59.7447263,
          59.2994272,
          59.6257726,
          60.2496771,
          59.4369968,
          59.88296570000001,
          60.0403252,
          63.23297100000001,
          60.2909255,
          64.01501929999999,
          63.38956359999999,
          59.1824458,
          63.37507970000001,
          59.4206763,
          59.1045202
         ],
         "legendgroup": "",
         "lon": [
          5.5792194,
          11.2677563,
          10.3950528,
          10.9215758,
          11.4592931,
          5.3209404,
          9.5714595,
          16.5345273,
          12.014581,
          10.4494392,
          10.7176409,
          9.756695599999999,
          17.4480287,
          20.4964888,
          7.2858538,
          8.9351381,
          11.7836091,
          10.3868261,
          5.479854899999999,
          24.9414658,
          5.9188474,
          6.5368417,
          11.2399196,
          11.200139,
          10.4225962,
          8.7844568,
          11.4232005,
          10.3162758,
          11.2306056,
          14.6425868,
          10.3643541,
          11.8011591,
          9.106148800000001,
          11.1068535,
          10.3730502,
          11.1757707,
          10.5049782,
          10.880072,
          10.2845022,
          10.615852,
          11.4952627,
          10.1626253,
          10.2569121,
          10.3132474,
          9.1535908,
          9.5605157
         ],
         "marker": {
          "color": "#636efa"
         },
         "mode": "markers+text",
         "name": "",
         "showlegend": false,
         "subplot": "mapbox",
         "text": [
          "Abroz",
          "Alchemy",
          "Ambiance",
          "Ankaru",
          "Ars Novas",
          "Belladoux",
          "Bergtjenna",
          "BjørnePia",
          "Casbana",
          "Catwalk",
          "Country Dreamer",
          "Dajmen",
          "Dominart",
          "Frøyapuddelen",
          "Happy Curl",
          "Kennel Ronbalt",
          "Kennel Vintelli",
          "Madam Mim",
          "Memories",
          "Minada",
          "Molineux",
          "Mountain Blizz",
          "MyCalida",
          "Mydele",
          "New Headlines",
          "Pepinalove’s",
          "Pride-n-joy's",
          "Puddelås",
          "Rayos de Sol",
          "Remaro",
          "Saga's Magical",
          "Schpindel",
          "Shameera",
          "Sharp Dressed",
          "Shebonemo",
          "Shining",
          "Shirkus",
          "Sjarmtrollet",
          "Skrivarbakken",
          "Stribukken",
          "Trollplassen",
          "Trønderkrøllan",
          "Ulfengs",
          "Voctaves",
          "West-Antopaz",
          "Wirothi"
         ],
         "type": "scattermapbox"
        }
       ],
       "layout": {
        "template": {
         "data": {
          "histogram2dcontour": [
           {
            "type": "histogram2dcontour",
            "colorbar": {
             "outlinewidth": 0,
             "ticks": ""
            },
            "colorscale": [
             [
              0.0,
              "#0d0887"
             ],
             [
              0.1111111111111111,
              "#46039f"
             ],
             [
              0.2222222222222222,
              "#7201a8"
             ],
             [
              0.3333333333333333,
              "#9c179e"
             ],
             [
              0.4444444444444444,
              "#bd3786"
             ],
             [
              0.5555555555555556,
              "#d8576b"
             ],
             [
              0.6666666666666666,
              "#ed7953"
             ],
             [
              0.7777777777777778,
              "#fb9f3a"
             ],
             [
              0.8888888888888888,
              "#fdca26"
             ],
             [
              1.0,
              "#f0f921"
             ]
            ]
           }
          ],
          "choropleth": [
           {
            "type": "choropleth",
            "colorbar": {
             "outlinewidth": 0,
             "ticks": ""
            }
           }
          ],
          "histogram2d": [
           {
            "type": "histogram2d",
            "colorbar": {
             "outlinewidth": 0,
             "ticks": ""
            },
            "colorscale": [
             [
              0.0,
              "#0d0887"
             ],
             [
              0.1111111111111111,
              "#46039f"
             ],
             [
              0.2222222222222222,
              "#7201a8"
             ],
             [
              0.3333333333333333,
              "#9c179e"
             ],
             [
              0.4444444444444444,
              "#bd3786"
             ],
             [
              0.5555555555555556,
              "#d8576b"
             ],
             [
              0.6666666666666666,
              "#ed7953"
             ],
             [
              0.7777777777777778,
              "#fb9f3a"
             ],
             [
              0.8888888888888888,
              "#fdca26"
             ],
             [
              1.0,
              "#f0f921"
             ]
            ]
           }
          ],
          "heatmap": [
           {
            "type": "heatmap",
            "colorbar": {
             "outlinewidth": 0,
             "ticks": ""
            },
            "colorscale": [
             [
              0.0,
              "#0d0887"
             ],
             [
              0.1111111111111111,
              "#46039f"
             ],
             [
              0.2222222222222222,
              "#7201a8"
             ],
             [
              0.3333333333333333,
              "#9c179e"
             ],
             [
              0.4444444444444444,
              "#bd3786"
             ],
             [
              0.5555555555555556,
              "#d8576b"
             ],
             [
              0.6666666666666666,
              "#ed7953"
             ],
             [
              0.7777777777777778,
              "#fb9f3a"
             ],
             [
              0.8888888888888888,
              "#fdca26"
             ],
             [
              1.0,
              "#f0f921"
             ]
            ]
           }
          ],
          "heatmapgl": [
           {
            "type": "heatmapgl",
            "colorbar": {
             "outlinewidth": 0,
             "ticks": ""
            },
            "colorscale": [
             [
              0.0,
              "#0d0887"
             ],
             [
              0.1111111111111111,
              "#46039f"
             ],
             [
              0.2222222222222222,
              "#7201a8"
             ],
             [
              0.3333333333333333,
              "#9c179e"
             ],
             [
              0.4444444444444444,
              "#bd3786"
             ],
             [
              0.5555555555555556,
              "#d8576b"
             ],
             [
              0.6666666666666666,
              "#ed7953"
             ],
             [
              0.7777777777777778,
              "#fb9f3a"
             ],
             [
              0.8888888888888888,
              "#fdca26"
             ],
             [
              1.0,
              "#f0f921"
             ]
            ]
           }
          ],
          "contourcarpet": [
           {
            "type": "contourcarpet",
            "colorbar": {
             "outlinewidth": 0,
             "ticks": ""
            }
           }
          ],
          "contour": [
           {
            "type": "contour",
            "colorbar": {
             "outlinewidth": 0,
             "ticks": ""
            },
            "colorscale": [
             [
              0.0,
              "#0d0887"
             ],
             [
              0.1111111111111111,
              "#46039f"
             ],
             [
              0.2222222222222222,
              "#7201a8"
             ],
             [
              0.3333333333333333,
              "#9c179e"
             ],
             [
              0.4444444444444444,
              "#bd3786"
             ],
             [
              0.5555555555555556,
              "#d8576b"
             ],
             [
              0.6666666666666666,
              "#ed7953"
             ],
             [
              0.7777777777777778,
              "#fb9f3a"
             ],
             [
              0.8888888888888888,
              "#fdca26"
             ],
             [
              1.0,
              "#f0f921"
             ]
            ]
           }
          ],
          "surface": [
           {
            "type": "surface",
            "colorbar": {
             "outlinewidth": 0,
             "ticks": ""
            },
            "colorscale": [
             [
              0.0,
              "#0d0887"
             ],
             [
              0.1111111111111111,
              "#46039f"
             ],
             [
              0.2222222222222222,
              "#7201a8"
             ],
             [
              0.3333333333333333,
              "#9c179e"
             ],
             [
              0.4444444444444444,
              "#bd3786"
             ],
             [
              0.5555555555555556,
              "#d8576b"
             ],
             [
              0.6666666666666666,
              "#ed7953"
             ],
             [
              0.7777777777777778,
              "#fb9f3a"
             ],
             [
              0.8888888888888888,
              "#fdca26"
             ],
             [
              1.0,
              "#f0f921"
             ]
            ]
           }
          ],
          "mesh3d": [
           {
            "type": "mesh3d",
            "colorbar": {
             "outlinewidth": 0,
             "ticks": ""
            }
           }
          ],
          "scatter": [
           {
            "fillpattern": {
             "fillmode": "overlay",
             "size": 10,
             "solidity": 0.2
            },
            "type": "scatter"
           }
          ],
          "parcoords": [
           {
            "type": "parcoords",
            "line": {
             "colorbar": {
              "outlinewidth": 0,
              "ticks": ""
             }
            }
           }
          ],
          "scatterpolargl": [
           {
            "type": "scatterpolargl",
            "marker": {
             "colorbar": {
              "outlinewidth": 0,
              "ticks": ""
             }
            }
           }
          ],
          "bar": [
           {
            "error_x": {
             "color": "#2a3f5f"
            },
            "error_y": {
             "color": "#2a3f5f"
            },
            "marker": {
             "line": {
              "color": "#E5ECF6",
              "width": 0.5
             },
             "pattern": {
              "fillmode": "overlay",
              "size": 10,
              "solidity": 0.2
             }
            },
            "type": "bar"
           }
          ],
          "scattergeo": [
           {
            "type": "scattergeo",
            "marker": {
             "colorbar": {
              "outlinewidth": 0,
              "ticks": ""
             }
            }
           }
          ],
          "scatterpolar": [
           {
            "type": "scatterpolar",
            "marker": {
             "colorbar": {
              "outlinewidth": 0,
              "ticks": ""
             }
            }
           }
          ],
          "histogram": [
           {
            "marker": {
             "pattern": {
              "fillmode": "overlay",
              "size": 10,
              "solidity": 0.2
             }
            },
            "type": "histogram"
           }
          ],
          "scattergl": [
           {
            "type": "scattergl",
            "marker": {
             "colorbar": {
              "outlinewidth": 0,
              "ticks": ""
             }
            }
           }
          ],
          "scatter3d": [
           {
            "type": "scatter3d",
            "line": {
             "colorbar": {
              "outlinewidth": 0,
              "ticks": ""
             }
            },
            "marker": {
             "colorbar": {
              "outlinewidth": 0,
              "ticks": ""
             }
            }
           }
          ],
          "scattermapbox": [
           {
            "type": "scattermapbox",
            "marker": {
             "colorbar": {
              "outlinewidth": 0,
              "ticks": ""
             }
            }
           }
          ],
          "scatterternary": [
           {
            "type": "scatterternary",
            "marker": {
             "colorbar": {
              "outlinewidth": 0,
              "ticks": ""
             }
            }
           }
          ],
          "scattercarpet": [
           {
            "type": "scattercarpet",
            "marker": {
             "colorbar": {
              "outlinewidth": 0,
              "ticks": ""
             }
            }
           }
          ],
          "carpet": [
           {
            "aaxis": {
             "endlinecolor": "#2a3f5f",
             "gridcolor": "white",
             "linecolor": "white",
             "minorgridcolor": "white",
             "startlinecolor": "#2a3f5f"
            },
            "baxis": {
             "endlinecolor": "#2a3f5f",
             "gridcolor": "white",
             "linecolor": "white",
             "minorgridcolor": "white",
             "startlinecolor": "#2a3f5f"
            },
            "type": "carpet"
           }
          ],
          "table": [
           {
            "cells": {
             "fill": {
              "color": "#EBF0F8"
             },
             "line": {
              "color": "white"
             }
            },
            "header": {
             "fill": {
              "color": "#C8D4E3"
             },
             "line": {
              "color": "white"
             }
            },
            "type": "table"
           }
          ],
          "barpolar": [
           {
            "marker": {
             "line": {
              "color": "#E5ECF6",
              "width": 0.5
             },
             "pattern": {
              "fillmode": "overlay",
              "size": 10,
              "solidity": 0.2
             }
            },
            "type": "barpolar"
           }
          ],
          "pie": [
           {
            "automargin": true,
            "type": "pie"
           }
          ]
         },
         "layout": {
          "autotypenumbers": "strict",
          "colorway": [
           "#636efa",
           "#EF553B",
           "#00cc96",
           "#ab63fa",
           "#FFA15A",
           "#19d3f3",
           "#FF6692",
           "#B6E880",
           "#FF97FF",
           "#FECB52"
          ],
          "font": {
           "color": "#2a3f5f"
          },
          "hovermode": "closest",
          "hoverlabel": {
           "align": "left"
          },
          "paper_bgcolor": "white",
          "plot_bgcolor": "#E5ECF6",
          "polar": {
           "bgcolor": "#E5ECF6",
           "angularaxis": {
            "gridcolor": "white",
            "linecolor": "white",
            "ticks": ""
           },
           "radialaxis": {
            "gridcolor": "white",
            "linecolor": "white",
            "ticks": ""
           }
          },
          "ternary": {
           "bgcolor": "#E5ECF6",
           "aaxis": {
            "gridcolor": "white",
            "linecolor": "white",
            "ticks": ""
           },
           "baxis": {
            "gridcolor": "white",
            "linecolor": "white",
            "ticks": ""
           },
           "caxis": {
            "gridcolor": "white",
            "linecolor": "white",
            "ticks": ""
           }
          },
          "coloraxis": {
           "colorbar": {
            "outlinewidth": 0,
            "ticks": ""
           }
          },
          "colorscale": {
           "sequential": [
            [
             0.0,
             "#0d0887"
            ],
            [
             0.1111111111111111,
             "#46039f"
            ],
            [
             0.2222222222222222,
             "#7201a8"
            ],
            [
             0.3333333333333333,
             "#9c179e"
            ],
            [
             0.4444444444444444,
             "#bd3786"
            ],
            [
             0.5555555555555556,
             "#d8576b"
            ],
            [
             0.6666666666666666,
             "#ed7953"
            ],
            [
             0.7777777777777778,
             "#fb9f3a"
            ],
            [
             0.8888888888888888,
             "#fdca26"
            ],
            [
             1.0,
             "#f0f921"
            ]
           ],
           "sequentialminus": [
            [
             0.0,
             "#0d0887"
            ],
            [
             0.1111111111111111,
             "#46039f"
            ],
            [
             0.2222222222222222,
             "#7201a8"
            ],
            [
             0.3333333333333333,
             "#9c179e"
            ],
            [
             0.4444444444444444,
             "#bd3786"
            ],
            [
             0.5555555555555556,
             "#d8576b"
            ],
            [
             0.6666666666666666,
             "#ed7953"
            ],
            [
             0.7777777777777778,
             "#fb9f3a"
            ],
            [
             0.8888888888888888,
             "#fdca26"
            ],
            [
             1.0,
             "#f0f921"
            ]
           ],
           "diverging": [
            [
             0,
             "#8e0152"
            ],
            [
             0.1,
             "#c51b7d"
            ],
            [
             0.2,
             "#de77ae"
            ],
            [
             0.3,
             "#f1b6da"
            ],
            [
             0.4,
             "#fde0ef"
            ],
            [
             0.5,
             "#f7f7f7"
            ],
            [
             0.6,
             "#e6f5d0"
            ],
            [
             0.7,
             "#b8e186"
            ],
            [
             0.8,
             "#7fbc41"
            ],
            [
             0.9,
             "#4d9221"
            ],
            [
             1,
             "#276419"
            ]
           ]
          },
          "xaxis": {
           "gridcolor": "white",
           "linecolor": "white",
           "ticks": "",
           "title": {
            "standoff": 15
           },
           "zerolinecolor": "white",
           "automargin": true,
           "zerolinewidth": 2
          },
          "yaxis": {
           "gridcolor": "white",
           "linecolor": "white",
           "ticks": "",
           "title": {
            "standoff": 15
           },
           "zerolinecolor": "white",
           "automargin": true,
           "zerolinewidth": 2
          },
          "scene": {
           "xaxis": {
            "backgroundcolor": "#E5ECF6",
            "gridcolor": "white",
            "linecolor": "white",
            "showbackground": true,
            "ticks": "",
            "zerolinecolor": "white",
            "gridwidth": 2
           },
           "yaxis": {
            "backgroundcolor": "#E5ECF6",
            "gridcolor": "white",
            "linecolor": "white",
            "showbackground": true,
            "ticks": "",
            "zerolinecolor": "white",
            "gridwidth": 2
           },
           "zaxis": {
            "backgroundcolor": "#E5ECF6",
            "gridcolor": "white",
            "linecolor": "white",
            "showbackground": true,
            "ticks": "",
            "zerolinecolor": "white",
            "gridwidth": 2
           }
          },
          "shapedefaults": {
           "line": {
            "color": "#2a3f5f"
           }
          },
          "annotationdefaults": {
           "arrowcolor": "#2a3f5f",
           "arrowhead": 0,
           "arrowwidth": 1
          },
          "geo": {
           "bgcolor": "white",
           "landcolor": "#E5ECF6",
           "subunitcolor": "white",
           "showland": true,
           "showlakes": true,
           "lakecolor": "white"
          },
          "title": {
           "x": 0.05
          },
          "mapbox": {
           "style": "light"
          }
         }
        },
        "mapbox": {
         "domain": {
          "x": [
           0.0,
           1.0
          ],
          "y": [
           0.0,
           1.0
          ]
         },
         "center": {
          "lat": 61.619950393478256,
          "lon": 10.861213278260871
         },
         "accesstoken": "pk.eyJ1Ijoic29uZHIzIiwiYSI6ImNsNzZtNDMyMjBsZnkzd2thdG94NWU4aHIifQ.-OZNrlFpGj9WL80dwI0mIQ",
         "zoom": 4
        },
        "legend": {
         "tracegroupgap": 0
        },
        "margin": {
         "t": 60
        },
        "height": 800
       },
       "config": {
        "plotlyServerURL": "https://plot.ly"
       }
      },
      "text/html": "<div>                            <div id=\"b1f6b3f9-8b8e-46c8-813e-3312399b94a8\" class=\"plotly-graph-div\" style=\"height:800px; width:100%;\"></div>            <script type=\"text/javascript\">                require([\"plotly\"], function(Plotly) {                    window.PLOTLYENV=window.PLOTLYENV || {};                                    if (document.getElementById(\"b1f6b3f9-8b8e-46c8-813e-3312399b94a8\")) {                    Plotly.newPlot(                        \"b1f6b3f9-8b8e-46c8-813e-3312399b94a8\",                        [{\"hovertemplate\":\"<b>%{hovertext}</b><br><br>Kennelnavn=%{text}<br>Lat=%{lat}<br>Long=%{lon}<extra></extra>\",\"hovertext\":[\"gr\\u00e5\",\"hvit\",\"sort, hvit\",\"sort, brun\",\"sort, brun\",\"fawn(r\\u00f8d, aprikos), gr\\u00e5\",\"sort, hvit\",\"sort, brun, fawn\",\"sort, hvit\",\"sort, hvit\",\"gr\\u00e5\",\"sort\",\"hvit\",\"sort\",\"sort\",\"fawn(r\\u00f8d, aprikos)\",\"sort, fawn(r\\u00f8d, aprikos)\",\"gr\\u00e5, hvit\",\"sort\",\"sort\",\"sort, hvit\",\"sort, hvit\",\"sort\",\"brun\",\"sort, hvit\",\"sort\",\"sort\",\"sort, fawn(r\\u00f8d, aprikos)\",\"sort, fawn(r\\u00f8d, aprikos)\",\"sort, hvit\",\"sort\",\"sort, hvit\",\"gr\\u00e5\",\"hvit\",\"gr\\u00e5\",\"sort\",\"sort, hvit, gr\\u00e5\",\"sort, hvit, brun\",\"sort, brun\",\"sort\",\"sort, brun\",\"sort, hvit\",\"sort\",\"sort\",\"sort, brun\",\"sort, hvit, brun\"],\"lat\":[59.65198729999999,60.1802787,63.4305149,59.9126589,60.1607284,59.57157379999999,59.10302369999999,68.6850139,60.3174141,59.74711190000001,60.2000219,61.59243439999999,68.4094835,69.2767008,63.00128059999999,60.7048853,61.00506410000001,63.3790554,60.1842847,70.0501311,59.7358175,60.05138539999999,60.2887765,59.6908457,63.3848622,58.47123949999999,59.63922269999999,59.48793500000001,64.07715929999999,67.40842959999999,63.427305,59.7447263,59.2994272,59.6257726,60.2496771,59.4369968,59.88296570000001,60.0403252,63.23297100000001,60.2909255,64.01501929999999,63.38956359999999,59.1824458,63.37507970000001,59.4206763,59.1045202],\"legendgroup\":\"\",\"lon\":[5.5792194,11.2677563,10.3950528,10.9215758,11.4592931,5.3209404,9.5714595,16.5345273,12.014581,10.4494392,10.7176409,9.756695599999999,17.4480287,20.4964888,7.2858538,8.9351381,11.7836091,10.3868261,5.479854899999999,24.9414658,5.9188474,6.5368417,11.2399196,11.200139,10.4225962,8.7844568,11.4232005,10.3162758,11.2306056,14.6425868,10.3643541,11.8011591,9.106148800000001,11.1068535,10.3730502,11.1757707,10.5049782,10.880072,10.2845022,10.615852,11.4952627,10.1626253,10.2569121,10.3132474,9.1535908,9.5605157],\"marker\":{\"color\":\"#636efa\"},\"mode\":\"markers+text\",\"name\":\"\",\"showlegend\":false,\"subplot\":\"mapbox\",\"text\":[\"Abroz\",\"Alchemy\",\"Ambiance\",\"Ankaru\",\"Ars Novas\",\"Belladoux\",\"Bergtjenna\",\"Bj\\u00f8rnePia\",\"Casbana\",\"Catwalk\",\"Country Dreamer\",\"Dajmen\",\"Dominart\",\"Fr\\u00f8yapuddelen\",\"Happy Curl\",\"Kennel Ronbalt\",\"Kennel Vintelli\",\"Madam Mim\",\"Memories\",\"Minada\",\"Molineux\",\"Mountain Blizz\",\"MyCalida\",\"Mydele\",\"New Headlines\",\"Pepinalove\\u2019s\",\"Pride-n-joy's\",\"Puddel\\u00e5s\",\"Rayos de Sol\",\"Remaro\",\"Saga's Magical\",\"Schpindel\",\"Shameera\",\"Sharp Dressed\",\"Shebonemo\",\"Shining\",\"Shirkus\",\"Sjarmtrollet\",\"Skrivarbakken\",\"Stribukken\",\"Trollplassen\",\"Tr\\u00f8nderkr\\u00f8llan\",\"Ulfengs\",\"Voctaves\",\"West-Antopaz\",\"Wirothi\"],\"type\":\"scattermapbox\"}],                        {\"template\":{\"data\":{\"histogram2dcontour\":[{\"type\":\"histogram2dcontour\",\"colorbar\":{\"outlinewidth\":0,\"ticks\":\"\"},\"colorscale\":[[0.0,\"#0d0887\"],[0.1111111111111111,\"#46039f\"],[0.2222222222222222,\"#7201a8\"],[0.3333333333333333,\"#9c179e\"],[0.4444444444444444,\"#bd3786\"],[0.5555555555555556,\"#d8576b\"],[0.6666666666666666,\"#ed7953\"],[0.7777777777777778,\"#fb9f3a\"],[0.8888888888888888,\"#fdca26\"],[1.0,\"#f0f921\"]]}],\"choropleth\":[{\"type\":\"choropleth\",\"colorbar\":{\"outlinewidth\":0,\"ticks\":\"\"}}],\"histogram2d\":[{\"type\":\"histogram2d\",\"colorbar\":{\"outlinewidth\":0,\"ticks\":\"\"},\"colorscale\":[[0.0,\"#0d0887\"],[0.1111111111111111,\"#46039f\"],[0.2222222222222222,\"#7201a8\"],[0.3333333333333333,\"#9c179e\"],[0.4444444444444444,\"#bd3786\"],[0.5555555555555556,\"#d8576b\"],[0.6666666666666666,\"#ed7953\"],[0.7777777777777778,\"#fb9f3a\"],[0.8888888888888888,\"#fdca26\"],[1.0,\"#f0f921\"]]}],\"heatmap\":[{\"type\":\"heatmap\",\"colorbar\":{\"outlinewidth\":0,\"ticks\":\"\"},\"colorscale\":[[0.0,\"#0d0887\"],[0.1111111111111111,\"#46039f\"],[0.2222222222222222,\"#7201a8\"],[0.3333333333333333,\"#9c179e\"],[0.4444444444444444,\"#bd3786\"],[0.5555555555555556,\"#d8576b\"],[0.6666666666666666,\"#ed7953\"],[0.7777777777777778,\"#fb9f3a\"],[0.8888888888888888,\"#fdca26\"],[1.0,\"#f0f921\"]]}],\"heatmapgl\":[{\"type\":\"heatmapgl\",\"colorbar\":{\"outlinewidth\":0,\"ticks\":\"\"},\"colorscale\":[[0.0,\"#0d0887\"],[0.1111111111111111,\"#46039f\"],[0.2222222222222222,\"#7201a8\"],[0.3333333333333333,\"#9c179e\"],[0.4444444444444444,\"#bd3786\"],[0.5555555555555556,\"#d8576b\"],[0.6666666666666666,\"#ed7953\"],[0.7777777777777778,\"#fb9f3a\"],[0.8888888888888888,\"#fdca26\"],[1.0,\"#f0f921\"]]}],\"contourcarpet\":[{\"type\":\"contourcarpet\",\"colorbar\":{\"outlinewidth\":0,\"ticks\":\"\"}}],\"contour\":[{\"type\":\"contour\",\"colorbar\":{\"outlinewidth\":0,\"ticks\":\"\"},\"colorscale\":[[0.0,\"#0d0887\"],[0.1111111111111111,\"#46039f\"],[0.2222222222222222,\"#7201a8\"],[0.3333333333333333,\"#9c179e\"],[0.4444444444444444,\"#bd3786\"],[0.5555555555555556,\"#d8576b\"],[0.6666666666666666,\"#ed7953\"],[0.7777777777777778,\"#fb9f3a\"],[0.8888888888888888,\"#fdca26\"],[1.0,\"#f0f921\"]]}],\"surface\":[{\"type\":\"surface\",\"colorbar\":{\"outlinewidth\":0,\"ticks\":\"\"},\"colorscale\":[[0.0,\"#0d0887\"],[0.1111111111111111,\"#46039f\"],[0.2222222222222222,\"#7201a8\"],[0.3333333333333333,\"#9c179e\"],[0.4444444444444444,\"#bd3786\"],[0.5555555555555556,\"#d8576b\"],[0.6666666666666666,\"#ed7953\"],[0.7777777777777778,\"#fb9f3a\"],[0.8888888888888888,\"#fdca26\"],[1.0,\"#f0f921\"]]}],\"mesh3d\":[{\"type\":\"mesh3d\",\"colorbar\":{\"outlinewidth\":0,\"ticks\":\"\"}}],\"scatter\":[{\"fillpattern\":{\"fillmode\":\"overlay\",\"size\":10,\"solidity\":0.2},\"type\":\"scatter\"}],\"parcoords\":[{\"type\":\"parcoords\",\"line\":{\"colorbar\":{\"outlinewidth\":0,\"ticks\":\"\"}}}],\"scatterpolargl\":[{\"type\":\"scatterpolargl\",\"marker\":{\"colorbar\":{\"outlinewidth\":0,\"ticks\":\"\"}}}],\"bar\":[{\"error_x\":{\"color\":\"#2a3f5f\"},\"error_y\":{\"color\":\"#2a3f5f\"},\"marker\":{\"line\":{\"color\":\"#E5ECF6\",\"width\":0.5},\"pattern\":{\"fillmode\":\"overlay\",\"size\":10,\"solidity\":0.2}},\"type\":\"bar\"}],\"scattergeo\":[{\"type\":\"scattergeo\",\"marker\":{\"colorbar\":{\"outlinewidth\":0,\"ticks\":\"\"}}}],\"scatterpolar\":[{\"type\":\"scatterpolar\",\"marker\":{\"colorbar\":{\"outlinewidth\":0,\"ticks\":\"\"}}}],\"histogram\":[{\"marker\":{\"pattern\":{\"fillmode\":\"overlay\",\"size\":10,\"solidity\":0.2}},\"type\":\"histogram\"}],\"scattergl\":[{\"type\":\"scattergl\",\"marker\":{\"colorbar\":{\"outlinewidth\":0,\"ticks\":\"\"}}}],\"scatter3d\":[{\"type\":\"scatter3d\",\"line\":{\"colorbar\":{\"outlinewidth\":0,\"ticks\":\"\"}},\"marker\":{\"colorbar\":{\"outlinewidth\":0,\"ticks\":\"\"}}}],\"scattermapbox\":[{\"type\":\"scattermapbox\",\"marker\":{\"colorbar\":{\"outlinewidth\":0,\"ticks\":\"\"}}}],\"scatterternary\":[{\"type\":\"scatterternary\",\"marker\":{\"colorbar\":{\"outlinewidth\":0,\"ticks\":\"\"}}}],\"scattercarpet\":[{\"type\":\"scattercarpet\",\"marker\":{\"colorbar\":{\"outlinewidth\":0,\"ticks\":\"\"}}}],\"carpet\":[{\"aaxis\":{\"endlinecolor\":\"#2a3f5f\",\"gridcolor\":\"white\",\"linecolor\":\"white\",\"minorgridcolor\":\"white\",\"startlinecolor\":\"#2a3f5f\"},\"baxis\":{\"endlinecolor\":\"#2a3f5f\",\"gridcolor\":\"white\",\"linecolor\":\"white\",\"minorgridcolor\":\"white\",\"startlinecolor\":\"#2a3f5f\"},\"type\":\"carpet\"}],\"table\":[{\"cells\":{\"fill\":{\"color\":\"#EBF0F8\"},\"line\":{\"color\":\"white\"}},\"header\":{\"fill\":{\"color\":\"#C8D4E3\"},\"line\":{\"color\":\"white\"}},\"type\":\"table\"}],\"barpolar\":[{\"marker\":{\"line\":{\"color\":\"#E5ECF6\",\"width\":0.5},\"pattern\":{\"fillmode\":\"overlay\",\"size\":10,\"solidity\":0.2}},\"type\":\"barpolar\"}],\"pie\":[{\"automargin\":true,\"type\":\"pie\"}]},\"layout\":{\"autotypenumbers\":\"strict\",\"colorway\":[\"#636efa\",\"#EF553B\",\"#00cc96\",\"#ab63fa\",\"#FFA15A\",\"#19d3f3\",\"#FF6692\",\"#B6E880\",\"#FF97FF\",\"#FECB52\"],\"font\":{\"color\":\"#2a3f5f\"},\"hovermode\":\"closest\",\"hoverlabel\":{\"align\":\"left\"},\"paper_bgcolor\":\"white\",\"plot_bgcolor\":\"#E5ECF6\",\"polar\":{\"bgcolor\":\"#E5ECF6\",\"angularaxis\":{\"gridcolor\":\"white\",\"linecolor\":\"white\",\"ticks\":\"\"},\"radialaxis\":{\"gridcolor\":\"white\",\"linecolor\":\"white\",\"ticks\":\"\"}},\"ternary\":{\"bgcolor\":\"#E5ECF6\",\"aaxis\":{\"gridcolor\":\"white\",\"linecolor\":\"white\",\"ticks\":\"\"},\"baxis\":{\"gridcolor\":\"white\",\"linecolor\":\"white\",\"ticks\":\"\"},\"caxis\":{\"gridcolor\":\"white\",\"linecolor\":\"white\",\"ticks\":\"\"}},\"coloraxis\":{\"colorbar\":{\"outlinewidth\":0,\"ticks\":\"\"}},\"colorscale\":{\"sequential\":[[0.0,\"#0d0887\"],[0.1111111111111111,\"#46039f\"],[0.2222222222222222,\"#7201a8\"],[0.3333333333333333,\"#9c179e\"],[0.4444444444444444,\"#bd3786\"],[0.5555555555555556,\"#d8576b\"],[0.6666666666666666,\"#ed7953\"],[0.7777777777777778,\"#fb9f3a\"],[0.8888888888888888,\"#fdca26\"],[1.0,\"#f0f921\"]],\"sequentialminus\":[[0.0,\"#0d0887\"],[0.1111111111111111,\"#46039f\"],[0.2222222222222222,\"#7201a8\"],[0.3333333333333333,\"#9c179e\"],[0.4444444444444444,\"#bd3786\"],[0.5555555555555556,\"#d8576b\"],[0.6666666666666666,\"#ed7953\"],[0.7777777777777778,\"#fb9f3a\"],[0.8888888888888888,\"#fdca26\"],[1.0,\"#f0f921\"]],\"diverging\":[[0,\"#8e0152\"],[0.1,\"#c51b7d\"],[0.2,\"#de77ae\"],[0.3,\"#f1b6da\"],[0.4,\"#fde0ef\"],[0.5,\"#f7f7f7\"],[0.6,\"#e6f5d0\"],[0.7,\"#b8e186\"],[0.8,\"#7fbc41\"],[0.9,\"#4d9221\"],[1,\"#276419\"]]},\"xaxis\":{\"gridcolor\":\"white\",\"linecolor\":\"white\",\"ticks\":\"\",\"title\":{\"standoff\":15},\"zerolinecolor\":\"white\",\"automargin\":true,\"zerolinewidth\":2},\"yaxis\":{\"gridcolor\":\"white\",\"linecolor\":\"white\",\"ticks\":\"\",\"title\":{\"standoff\":15},\"zerolinecolor\":\"white\",\"automargin\":true,\"zerolinewidth\":2},\"scene\":{\"xaxis\":{\"backgroundcolor\":\"#E5ECF6\",\"gridcolor\":\"white\",\"linecolor\":\"white\",\"showbackground\":true,\"ticks\":\"\",\"zerolinecolor\":\"white\",\"gridwidth\":2},\"yaxis\":{\"backgroundcolor\":\"#E5ECF6\",\"gridcolor\":\"white\",\"linecolor\":\"white\",\"showbackground\":true,\"ticks\":\"\",\"zerolinecolor\":\"white\",\"gridwidth\":2},\"zaxis\":{\"backgroundcolor\":\"#E5ECF6\",\"gridcolor\":\"white\",\"linecolor\":\"white\",\"showbackground\":true,\"ticks\":\"\",\"zerolinecolor\":\"white\",\"gridwidth\":2}},\"shapedefaults\":{\"line\":{\"color\":\"#2a3f5f\"}},\"annotationdefaults\":{\"arrowcolor\":\"#2a3f5f\",\"arrowhead\":0,\"arrowwidth\":1},\"geo\":{\"bgcolor\":\"white\",\"landcolor\":\"#E5ECF6\",\"subunitcolor\":\"white\",\"showland\":true,\"showlakes\":true,\"lakecolor\":\"white\"},\"title\":{\"x\":0.05},\"mapbox\":{\"style\":\"light\"}}},\"mapbox\":{\"domain\":{\"x\":[0.0,1.0],\"y\":[0.0,1.0]},\"center\":{\"lat\":61.619950393478256,\"lon\":10.861213278260871},\"accesstoken\":\"pk.eyJ1Ijoic29uZHIzIiwiYSI6ImNsNzZtNDMyMjBsZnkzd2thdG94NWU4aHIifQ.-OZNrlFpGj9WL80dwI0mIQ\",\"zoom\":4},\"legend\":{\"tracegroupgap\":0},\"margin\":{\"t\":60},\"height\":800},                        {\"responsive\": true}                    ).then(function(){\n                            \nvar gd = document.getElementById('b1f6b3f9-8b8e-46c8-813e-3312399b94a8');\nvar x = new MutationObserver(function (mutations, observer) {{\n        var display = window.getComputedStyle(gd).display;\n        if (!display || display === 'none') {{\n            console.log([gd, 'removed!']);\n            Plotly.purge(gd);\n            observer.disconnect();\n        }}\n}});\n\n// Listen for the removal of the full notebook cells\nvar notebookContainer = gd.closest('#notebook-container');\nif (notebookContainer) {{\n    x.observe(notebookContainer, {childList: true});\n}}\n\n// Listen for the clearing of the current output cell\nvar outputEl = gd.closest('.output');\nif (outputEl) {{\n    x.observe(outputEl, {childList: true});\n}}\n\n                        })                };                });            </script>        </div>"
     },
     "metadata": {},
     "output_type": "display_data"
    }
   ],
   "source": [
    "fig = px.scatter_mapbox(poodles, lat=\"Lat\", lon=\"Long\", size_max=15, zoom=4, hover_name=\"Farge\", text=\"Kennelnavn\", height=800)\n",
    "fig.show()"
   ],
   "metadata": {
    "collapsed": false,
    "pycharm": {
     "name": "#%%\n"
    }
   }
  }
 ],
 "metadata": {
  "kernelspec": {
   "display_name": "Python 3",
   "language": "python",
   "name": "python3"
  },
  "language_info": {
   "codemirror_mode": {
    "name": "ipython",
    "version": 2
   },
   "file_extension": ".py",
   "mimetype": "text/x-python",
   "name": "python",
   "nbconvert_exporter": "python",
   "pygments_lexer": "ipython2",
   "version": "2.7.6"
  }
 },
 "nbformat": 4,
 "nbformat_minor": 0
}