{
 "cells": [
  {
   "cell_type": "markdown",
   "metadata": {},
   "source": [
    "# Bingo\n",
    "\n",
    "For those times when you need a randomly generated Bingo board."
   ]
  },
  {
   "cell_type": "code",
   "execution_count": 1,
   "metadata": {},
   "outputs": [],
   "source": [
    "import random"
   ]
  },
  {
   "cell_type": "code",
   "execution_count": 2,
   "metadata": {},
   "outputs": [],
   "source": [
    "def bingo(n: int, low: int, high: int):\n",
    "    size = n * n\n",
    "    \n",
    "    board = set()\n",
    "    while len(board) < size:\n",
    "        board.add(random.randint(low,high))\n",
    "\n",
    "    board = list(board)\n",
    "    random.shuffle(board)\n",
    "    for idx, num in enumerate(board):\n",
    "        if idx % n == 0:\n",
    "            print()\n",
    "        print(f\"{num}\\t\", end='')\n",
    "    "
   ]
  },
  {
   "cell_type": "code",
   "execution_count": 3,
   "metadata": {},
   "outputs": [
    {
     "name": "stdout",
     "output_type": "stream",
     "text": [
      "\n",
      "48\t14\t68\t44\t58\t\n",
      "64\t65\t71\t32\t75\t\n",
      "57\t50\t16\t53\t51\t\n",
      "82\t85\t39\t77\t89\t\n",
      "9\t69\t28\t7\t74\t"
     ]
    }
   ],
   "source": [
    "bingo(5, 1, 90)"
   ]
  },
  {
   "cell_type": "code",
   "execution_count": 4,
   "metadata": {},
   "outputs": [
    {
     "name": "stdout",
     "output_type": "stream",
     "text": [
      "\n",
      "56\t37\t63\t61\t44\t24\t31\t100\t51\t55\t\n",
      "8\t38\t4\t91\t81\t13\t40\t2\t30\t50\t\n",
      "18\t32\t77\t46\t20\t49\t97\t93\t85\t28\t\n",
      "35\t26\t5\t95\t21\t22\t1\t99\t53\t57\t\n",
      "94\t58\t87\t29\t70\t36\t34\t33\t88\t96\t\n",
      "64\t45\t25\t80\t59\t73\t16\t65\t90\t39\t\n",
      "92\t67\t83\t71\t54\t43\t10\t75\t79\t17\t\n",
      "47\t86\t72\t6\t82\t12\t15\t23\t68\t66\t\n",
      "78\t14\t9\t62\t11\t7\t52\t84\t27\t60\t\n",
      "42\t76\t19\t89\t41\t48\t69\t3\t74\t98\t"
     ]
    }
   ],
   "source": [
    "bingo(10, 1, 100)"
   ]
  }
 ],
 "metadata": {
  "kernelspec": {
   "display_name": "Python 3",
   "language": "python",
   "name": "python3"
  },
  "language_info": {
   "codemirror_mode": {
    "name": "ipython",
    "version": 3
   },
   "file_extension": ".py",
   "mimetype": "text/x-python",
   "name": "python",
   "nbconvert_exporter": "python",
   "pygments_lexer": "ipython3",
   "version": "3.7.0"
  }
 },
 "nbformat": 4,
 "nbformat_minor": 2
}
